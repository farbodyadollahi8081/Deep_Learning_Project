{
  "cells": [
    {
      "cell_type": "markdown",
      "source": [
        "## Deep Learning Project\n",
        "#phase one\n",
        "\n",
        "Mohammad kalbasi:401211028\n",
        "\n",
        "Farbod Yadollahi: 98102595\n",
        "\n",
        "AmirMasoud Bagheri:400203616"
      ],
      "metadata": {
        "id": "H9DA-gyPolzI"
      }
    },
    {
      "cell_type": "markdown",
      "source": [
        "first we install requirements and import liibraries"
      ],
      "metadata": {
        "id": "r5B_aq2ioo32"
      }
    },
    {
      "cell_type": "code",
      "execution_count": 2,
      "metadata": {
        "colab": {
          "base_uri": "https://localhost:8080/"
        },
        "id": "GOvIuPb2wYYl",
        "outputId": "52841819-4944-48c4-8055-0b57d218aa9b"
      },
      "outputs": [
        {
          "output_type": "stream",
          "name": "stdout",
          "text": [
            "Looking in indexes: https://pypi.org/simple, https://us-python.pkg.dev/colab-wheels/public/simple/\n",
            "Requirement already satisfied: gdown in /usr/local/lib/python3.8/dist-packages (4.6.0)\n",
            "Requirement already satisfied: filelock in /usr/local/lib/python3.8/dist-packages (from gdown) (3.9.0)\n",
            "Requirement already satisfied: tqdm in /usr/local/lib/python3.8/dist-packages (from gdown) (4.64.1)\n",
            "Requirement already satisfied: beautifulsoup4 in /usr/local/lib/python3.8/dist-packages (from gdown) (4.6.3)\n",
            "Requirement already satisfied: six in /usr/local/lib/python3.8/dist-packages (from gdown) (1.15.0)\n",
            "Requirement already satisfied: requests[socks] in /usr/local/lib/python3.8/dist-packages (from gdown) (2.25.1)\n",
            "Requirement already satisfied: chardet<5,>=3.0.2 in /usr/local/lib/python3.8/dist-packages (from requests[socks]->gdown) (4.0.0)\n",
            "Requirement already satisfied: certifi>=2017.4.17 in /usr/local/lib/python3.8/dist-packages (from requests[socks]->gdown) (2022.12.7)\n",
            "Requirement already satisfied: idna<3,>=2.5 in /usr/local/lib/python3.8/dist-packages (from requests[socks]->gdown) (2.10)\n",
            "Requirement already satisfied: urllib3<1.27,>=1.21.1 in /usr/local/lib/python3.8/dist-packages (from requests[socks]->gdown) (1.24.3)\n",
            "Requirement already satisfied: PySocks!=1.5.7,>=1.5.6 in /usr/local/lib/python3.8/dist-packages (from requests[socks]->gdown) (1.7.1)\n"
          ]
        }
      ],
      "source": [
        "pip install -U --no-cache-dir gdown --pre"
      ]
    },
    {
      "cell_type": "code",
      "execution_count": 1,
      "metadata": {
        "id": "-VL6MwvFwfA7"
      },
      "outputs": [],
      "source": [
        "# first importing libraries\n",
        "import base64\n",
        "import requests\n",
        "import numpy as np\n",
        "import gdown\n",
        "from zipfile import ZipFile\n",
        "import gzip as gzip\n",
        "import os\n",
        "\n",
        "import torch\n",
        "from torch.utils.data import Dataset\n",
        "from torchvision import datasets\n",
        "from torchvision.transforms import ToTensor\n",
        "import matplotlib.pyplot as plt\n",
        "\n",
        "import pandas as pd\n",
        "from torchvision.io import read_image\n",
        "import re\n",
        "import cv2\n",
        "from skimage.transform import resize\n",
        "from google.colab.patches import cv2_imshow\n",
        "from tqdm import tqdm\n",
        "from torch.optim import lr_scheduler\n",
        "\n",
        "\n",
        "from __future__ import print_function\n",
        "import argparse\n",
        "import numpy  as np\n",
        "from PIL import Image\n",
        "import torch\n",
        "import torch.nn as nn\n",
        "import torch.nn.functional as F\n",
        "import torchvision\n",
        "import torch.optim as optim\n",
        "from torch.utils.data import DataLoader, Dataset\n",
        "from torch.utils.data.sampler import SubsetRandomSampler\n",
        "from torchvision import transforms\n",
        "\n",
        "import time\n",
        "import os\n",
        "import copy"
      ]
    },
    {
      "cell_type": "code",
      "execution_count": 2,
      "metadata": {
        "colab": {
          "base_uri": "https://localhost:8080/"
        },
        "id": "RyO2-xg-wjZ5",
        "outputId": "d15f4e77-b2c2-441c-9bb9-26768f37e8f3"
      },
      "outputs": [
        {
          "output_type": "stream",
          "name": "stdout",
          "text": [
            "cpu\n"
          ]
        }
      ],
      "source": [
        "device = \"cuda\" if torch.cuda.is_available() else \"cpu\"\n",
        "print(device)"
      ]
    },
    {
      "cell_type": "code",
      "execution_count": 3,
      "metadata": {
        "colab": {
          "base_uri": "https://localhost:8080/"
        },
        "id": "8fh0esnpwsaE",
        "outputId": "b55f502d-004f-4119-f45e-cf352331ec08"
      },
      "outputs": [
        {
          "output_type": "stream",
          "name": "stdout",
          "text": [
            "Looking in indexes: https://pypi.org/simple, https://us-python.pkg.dev/colab-wheels/public/simple/\n",
            "Collecting git+https://github.com/hukkelas/DSFD-Pytorch-Inference.git\n",
            "  Cloning https://github.com/hukkelas/DSFD-Pytorch-Inference.git to /tmp/pip-req-build-7t20pxwv\n",
            "  Running command git clone --filter=blob:none --quiet https://github.com/hukkelas/DSFD-Pytorch-Inference.git /tmp/pip-req-build-7t20pxwv\n",
            "  Resolved https://github.com/hukkelas/DSFD-Pytorch-Inference.git to commit fc1051d80936e3d7a6e34053bb5485c0a032e42e\n",
            "  Preparing metadata (setup.py) ... \u001b[?25l\u001b[?25hdone\n",
            "Requirement already satisfied: numpy in /usr/local/lib/python3.8/dist-packages (from face-detection==0.2.1) (1.21.6)\n",
            "Building wheels for collected packages: face-detection\n",
            "  Building wheel for face-detection (setup.py) ... \u001b[?25l\u001b[?25hdone\n",
            "  Created wheel for face-detection: filename=face_detection-0.2.1-py3-none-any.whl size=29707 sha256=1c3096e0c349acc74e828b547c3a8a7e4bf42f5f687ee1cb2c1845fdf3a06759\n",
            "  Stored in directory: /tmp/pip-ephem-wheel-cache-3mgylim3/wheels/57/d0/53/55657e0e64121cb64c10829c2f29bb3703afd0dcee55416e51\n",
            "Successfully built face-detection\n",
            "Installing collected packages: face-detection\n",
            "Successfully installed face-detection-0.2.1\n"
          ]
        }
      ],
      "source": [
        "!pip install git+https://github.com/hukkelas/DSFD-Pytorch-Inference.git\n",
        "import face_detection"
      ]
    },
    {
      "cell_type": "code",
      "execution_count": 4,
      "metadata": {
        "colab": {
          "base_uri": "https://localhost:8080/"
        },
        "id": "YcltKA43wvJf",
        "outputId": "b8694afa-7b35-4f58-effb-6852747f9a38"
      },
      "outputs": [
        {
          "output_type": "stream",
          "name": "stdout",
          "text": [
            "Cloning into 'MSCTD'...\n",
            "remote: Enumerating objects: 1217, done.\u001b[K\n",
            "remote: Counting objects: 100% (27/27), done.\u001b[K\n",
            "remote: Compressing objects: 100% (23/23), done.\u001b[K\n",
            "remote: Total 1217 (delta 13), reused 7 (delta 3), pack-reused 1190\u001b[K\n",
            "Receiving objects: 100% (1217/1217), 102.24 MiB | 24.27 MiB/s, done.\n",
            "Resolving deltas: 100% (616/616), done.\n",
            "Updating files: 100% (934/934), done.\n"
          ]
        }
      ],
      "source": [
        "!git clone https://github.com/XL2248/MSCTD.git"
      ]
    },
    {
      "cell_type": "code",
      "execution_count": 6,
      "metadata": {
        "colab": {
          "base_uri": "https://localhost:8080/"
        },
        "id": "K42c71hRwx94",
        "outputId": "61ba3069-b8d0-4830-c90d-c0e4ea6afb62"
      },
      "outputs": [
        {
          "output_type": "stream",
          "name": "stdout",
          "text": [
            "Mounted at /content/gdrive\n"
          ]
        }
      ],
      "source": [
        "from google.colab import drive\n",
        "drive.mount('/content/gdrive') # we use google drive to load files and save models there! so change path files based on your own data and run the code!"
      ]
    },
    {
      "cell_type": "code",
      "source": [
        "!rm -r /content/gdrive/MyDrive/Phase_0_images"
      ],
      "metadata": {
        "id": "9S2JzJhOZ05n"
      },
      "execution_count": null,
      "outputs": []
    },
    {
      "cell_type": "markdown",
      "source": [
        "here we define a function to download the dataset from the drive"
      ],
      "metadata": {
        "id": "i8Ms-p_koyJr"
      }
    },
    {
      "cell_type": "code",
      "execution_count": 7,
      "metadata": {
        "id": "pqioPnAsw09K"
      },
      "outputs": [],
      "source": [
        "def donwload_to_file(grdive_path,file_name,output_path):\n",
        "  \"\"\"\n",
        "  function for downloading zip files from google drive and save it to desired path on colab\n",
        "\n",
        "  inputs:\n",
        "    grdive_path: path of file we want to download (url should be in export=download format)\n",
        "    file_name: name of file we want to download\n",
        "    output_path:path we extract data into\n",
        "  outputs:\n",
        "    we dont have any output!\n",
        "\n",
        "  \"\"\"\n",
        "  gdown.download(grdive_path, file_name)\n",
        "  with ZipFile(file_name, 'r') as zipObj:\n",
        "    # Extract all the contents of zip file in current directory\n",
        "    zipObj.extractall(output_path)"
      ]
    },
    {
      "cell_type": "markdown",
      "source": [
        "here we download the dataset"
      ],
      "metadata": {
        "id": "5bnBC4xso5qY"
      }
    },
    {
      "cell_type": "code",
      "execution_count": null,
      "metadata": {
        "id": "cxzWffsxw4ez",
        "colab": {
          "base_uri": "https://localhost:8080/",
          "height": 579
        },
        "outputId": "7250feec-4db6-47a5-d068-47b967d465da"
      },
      "outputs": [
        {
          "output_type": "stream",
          "name": "stdout",
          "text": [
            "Access denied with the following error:\n"
          ]
        },
        {
          "output_type": "stream",
          "name": "stderr",
          "text": [
            "\n",
            " \tCannot retrieve the public link of the file. You may need to change\n",
            "\tthe permission to 'Anyone with the link', or have had many accesses. \n",
            "\n",
            "You may still be able to access the file from the browser:\n",
            "\n",
            "\t https://drive.google.com/u/0/uc?id=12HM8uVNjFg-HRZ15ADue4oLGFAYQwvTA&export=download \n",
            "\n"
          ]
        },
        {
          "output_type": "error",
          "ename": "BadZipFile",
          "evalue": "ignored",
          "traceback": [
            "\u001b[0;31m---------------------------------------------------------------------------\u001b[0m",
            "\u001b[0;31mBadZipFile\u001b[0m                                Traceback (most recent call last)",
            "\u001b[0;32m<ipython-input-79-151cce7e8a1a>\u001b[0m in \u001b[0;36m<module>\u001b[0;34m\u001b[0m\n\u001b[1;32m      5\u001b[0m \u001b[0;34m\u001b[0m\u001b[0m\n\u001b[1;32m      6\u001b[0m \u001b[0;31m# for validation     https://drive.google.com/u/0/uc?id=12HM8uVNjFg-HRZ15ADue4oLGFAYQwvTA&export=download\u001b[0m\u001b[0;34m\u001b[0m\u001b[0;34m\u001b[0m\u001b[0;34m\u001b[0m\u001b[0m\n\u001b[0;32m----> 7\u001b[0;31m \u001b[0mdonwload_to_file\u001b[0m\u001b[0;34m(\u001b[0m\u001b[0;34m'https://drive.google.com/u/0/uc?id=12HM8uVNjFg-HRZ15ADue4oLGFAYQwvTA&export=download'\u001b[0m\u001b[0;34m,\u001b[0m\u001b[0;34m'dev.zip'\u001b[0m\u001b[0;34m,\u001b[0m\u001b[0;34m'/content/gdrive/MyDrive/Phase_0_images'\u001b[0m\u001b[0;34m)\u001b[0m\u001b[0;34m\u001b[0m\u001b[0;34m\u001b[0m\u001b[0m\n\u001b[0m\u001b[1;32m      8\u001b[0m \u001b[0;34m\u001b[0m\u001b[0m\n\u001b[1;32m      9\u001b[0m \u001b[0;31m# for test\u001b[0m\u001b[0;34m\u001b[0m\u001b[0;34m\u001b[0m\u001b[0;34m\u001b[0m\u001b[0m\n",
            "\u001b[0;32m<ipython-input-57-ae5cddb2da84>\u001b[0m in \u001b[0;36mdonwload_to_file\u001b[0;34m(grdive_path, file_name, output_path)\u001b[0m\n\u001b[1;32m     12\u001b[0m   \"\"\"\n\u001b[1;32m     13\u001b[0m   \u001b[0mgdown\u001b[0m\u001b[0;34m.\u001b[0m\u001b[0mdownload\u001b[0m\u001b[0;34m(\u001b[0m\u001b[0mgrdive_path\u001b[0m\u001b[0;34m,\u001b[0m \u001b[0mfile_name\u001b[0m\u001b[0;34m)\u001b[0m\u001b[0;34m\u001b[0m\u001b[0;34m\u001b[0m\u001b[0m\n\u001b[0;32m---> 14\u001b[0;31m   \u001b[0;32mwith\u001b[0m \u001b[0mZipFile\u001b[0m\u001b[0;34m(\u001b[0m\u001b[0mfile_name\u001b[0m\u001b[0;34m,\u001b[0m \u001b[0;34m'r'\u001b[0m\u001b[0;34m)\u001b[0m \u001b[0;32mas\u001b[0m \u001b[0mzipObj\u001b[0m\u001b[0;34m:\u001b[0m\u001b[0;34m\u001b[0m\u001b[0;34m\u001b[0m\u001b[0m\n\u001b[0m\u001b[1;32m     15\u001b[0m     \u001b[0;31m# Extract all the contents of zip file in current directory\u001b[0m\u001b[0;34m\u001b[0m\u001b[0;34m\u001b[0m\u001b[0;34m\u001b[0m\u001b[0m\n\u001b[1;32m     16\u001b[0m     \u001b[0mzipObj\u001b[0m\u001b[0;34m.\u001b[0m\u001b[0mextractall\u001b[0m\u001b[0;34m(\u001b[0m\u001b[0moutput_path\u001b[0m\u001b[0;34m)\u001b[0m\u001b[0;34m\u001b[0m\u001b[0;34m\u001b[0m\u001b[0m\n",
            "\u001b[0;32m/usr/lib/python3.8/zipfile.py\u001b[0m in \u001b[0;36m__init__\u001b[0;34m(self, file, mode, compression, allowZip64, compresslevel, strict_timestamps)\u001b[0m\n\u001b[1;32m   1267\u001b[0m         \u001b[0;32mtry\u001b[0m\u001b[0;34m:\u001b[0m\u001b[0;34m\u001b[0m\u001b[0;34m\u001b[0m\u001b[0m\n\u001b[1;32m   1268\u001b[0m             \u001b[0;32mif\u001b[0m \u001b[0mmode\u001b[0m \u001b[0;34m==\u001b[0m \u001b[0;34m'r'\u001b[0m\u001b[0;34m:\u001b[0m\u001b[0;34m\u001b[0m\u001b[0;34m\u001b[0m\u001b[0m\n\u001b[0;32m-> 1269\u001b[0;31m                 \u001b[0mself\u001b[0m\u001b[0;34m.\u001b[0m\u001b[0m_RealGetContents\u001b[0m\u001b[0;34m(\u001b[0m\u001b[0;34m)\u001b[0m\u001b[0;34m\u001b[0m\u001b[0;34m\u001b[0m\u001b[0m\n\u001b[0m\u001b[1;32m   1270\u001b[0m             \u001b[0;32melif\u001b[0m \u001b[0mmode\u001b[0m \u001b[0;32min\u001b[0m \u001b[0;34m(\u001b[0m\u001b[0;34m'w'\u001b[0m\u001b[0;34m,\u001b[0m \u001b[0;34m'x'\u001b[0m\u001b[0;34m)\u001b[0m\u001b[0;34m:\u001b[0m\u001b[0;34m\u001b[0m\u001b[0;34m\u001b[0m\u001b[0m\n\u001b[1;32m   1271\u001b[0m                 \u001b[0;31m# set the modified flag so central directory gets written\u001b[0m\u001b[0;34m\u001b[0m\u001b[0;34m\u001b[0m\u001b[0;34m\u001b[0m\u001b[0m\n",
            "\u001b[0;32m/usr/lib/python3.8/zipfile.py\u001b[0m in \u001b[0;36m_RealGetContents\u001b[0;34m(self)\u001b[0m\n\u001b[1;32m   1334\u001b[0m             \u001b[0;32mraise\u001b[0m \u001b[0mBadZipFile\u001b[0m\u001b[0;34m(\u001b[0m\u001b[0;34m\"File is not a zip file\"\u001b[0m\u001b[0;34m)\u001b[0m\u001b[0;34m\u001b[0m\u001b[0;34m\u001b[0m\u001b[0m\n\u001b[1;32m   1335\u001b[0m         \u001b[0;32mif\u001b[0m \u001b[0;32mnot\u001b[0m \u001b[0mendrec\u001b[0m\u001b[0;34m:\u001b[0m\u001b[0;34m\u001b[0m\u001b[0;34m\u001b[0m\u001b[0m\n\u001b[0;32m-> 1336\u001b[0;31m             \u001b[0;32mraise\u001b[0m \u001b[0mBadZipFile\u001b[0m\u001b[0;34m(\u001b[0m\u001b[0;34m\"File is not a zip file\"\u001b[0m\u001b[0;34m)\u001b[0m\u001b[0;34m\u001b[0m\u001b[0;34m\u001b[0m\u001b[0m\n\u001b[0m\u001b[1;32m   1337\u001b[0m         \u001b[0;32mif\u001b[0m \u001b[0mself\u001b[0m\u001b[0;34m.\u001b[0m\u001b[0mdebug\u001b[0m \u001b[0;34m>\u001b[0m \u001b[0;36m1\u001b[0m\u001b[0;34m:\u001b[0m\u001b[0;34m\u001b[0m\u001b[0;34m\u001b[0m\u001b[0m\n\u001b[1;32m   1338\u001b[0m             \u001b[0mprint\u001b[0m\u001b[0;34m(\u001b[0m\u001b[0mendrec\u001b[0m\u001b[0;34m)\u001b[0m\u001b[0;34m\u001b[0m\u001b[0;34m\u001b[0m\u001b[0m\n",
            "\u001b[0;31mBadZipFile\u001b[0m: File is not a zip file"
          ]
        }
      ],
      "source": [
        "# for train          \n",
        "donwload_to_file('https://drive.google.com/u/0/uc?id=1GAZgPpTUBSfhne-Tp0GDkvSHuq6EMMbj&export=download','train_ende.zip','/content/gdrive/MyDrive/Phase_0_images')\n",
        "# renaming train folder name (it's train_ende) to just train so it is more consistent with other folders names\n",
        "os.rename('/content/gdrive/MyDrive/Phase_0_images/train_ende','/content/gdrive/MyDrive/Phase_0_images/train')\n",
        "\n",
        "# for validation     https://drive.google.com/u/0/uc?id=12HM8uVNjFg-HRZ15ADue4oLGFAYQwvTA&export=download\n",
        "donwload_to_file('https://drive.google.com/u/0/uc?id=12HM8uVNjFg-HRZ15ADue4oLGFAYQwvTA&export=download','dev.zip','/content/gdrive/MyDrive/Phase_0_images')\n",
        "\n",
        "# for test\n",
        "donwload_to_file('https://drive.google.com/u/0/uc?id=1B9ZFmSTqfTMaqJ15nQDrRNLqBvo-B39W&export=download','test.zip','/content/gdrive/MyDrive/Phase_0_images')"
      ]
    },
    {
      "cell_type": "code",
      "source": [
        "#test\n",
        "gdown.download('https://drive.google.com/drive/folders/1-5vqUdiViXZ8D0Pt6oMIm5mgS36J0v7s?usp=sharing')"
      ],
      "metadata": {
        "colab": {
          "base_uri": "https://localhost:8080/",
          "height": 165
        },
        "id": "A7SpnGEREp0r",
        "outputId": "407464e5-7298-4b74-8e36-6fe514a76b8b"
      },
      "execution_count": null,
      "outputs": [
        {
          "output_type": "stream",
          "name": "stderr",
          "text": [
            "/usr/local/lib/python3.8/dist-packages/gdown/parse_url.py:35: UserWarning: You specified a Google Drive link that is not the correct link to download a file. You might want to try `--fuzzy` option or the following url: https://drive.google.com/uc?id=None\n",
            "  warnings.warn(\n",
            "Downloading...\n",
            "From: https://drive.google.com/drive/folders/1-5vqUdiViXZ8D0Pt6oMIm5mgS36J0v7s?usp=sharing\n",
            "To: /content/1-5vqUdiViXZ8D0Pt6oMIm5mgS36J0v7s?usp=sharing\n",
            "959kB [00:00, 87.5MB/s]\n"
          ]
        },
        {
          "output_type": "execute_result",
          "data": {
            "text/plain": [
              "'1-5vqUdiViXZ8D0Pt6oMIm5mgS36J0v7s?usp=sharing'"
            ],
            "application/vnd.google.colaboratory.intrinsic+json": {
              "type": "string"
            }
          },
          "metadata": {},
          "execution_count": 74
        }
      ]
    },
    {
      "cell_type": "code",
      "source": [
        "#validation\n",
        "!gdown 'https://drive.google.com/drive/folders/1Cp7aaOPJGOUCgE2974ivtepsHxiLpuyU?usp=sharing'"
      ],
      "metadata": {
        "colab": {
          "base_uri": "https://localhost:8080/"
        },
        "id": "YQ_7GuXlGM8t",
        "outputId": "2b3c48d6-2b81-48e7-ebed-9aaa9131f8bf"
      },
      "execution_count": null,
      "outputs": [
        {
          "output_type": "stream",
          "name": "stdout",
          "text": [
            "/usr/local/lib/python3.8/dist-packages/gdown/parse_url.py:35: UserWarning: You specified a Google Drive link that is not the correct link to download a file. You might want to try `--fuzzy` option or the following url: https://drive.google.com/uc?id=None\n",
            "  warnings.warn(\n",
            "Downloading...\n",
            "From: https://drive.google.com/drive/folders/1Cp7aaOPJGOUCgE2974ivtepsHxiLpuyU?usp=sharing\n",
            "To: /content/1Cp7aaOPJGOUCgE2974ivtepsHxiLpuyU?usp=sharing\n",
            "959kB [00:00, 82.1MB/s]\n"
          ]
        }
      ]
    },
    {
      "cell_type": "markdown",
      "source": [
        "this is a dataset class to read the datasets' directory for images, texts and sentiments"
      ],
      "metadata": {
        "id": "HKTo7J84o8zg"
      }
    },
    {
      "cell_type": "code",
      "execution_count": 8,
      "metadata": {
        "id": "SCv0qLAkw7nL"
      },
      "outputs": [],
      "source": [
        "class MSTCDDate(Dataset):\n",
        "  \"\"\"\n",
        "  data loader class for getting data but one image (and it corresponding dialogue and label at a time)\n",
        "  inputs:\n",
        "    image_path: folder path of image data\n",
        "    txt_path: folder path of txt data\n",
        "    language: language type(english,german,...)\n",
        "    mode: train,test,validation \n",
        "    image_format: jpg,png,...\n",
        "    sclae: upscaling or downscaling image\n",
        "    transform: transformation we want to apply on data\n",
        "    target_transform: transformation we want to apply on labels\n",
        "\n",
        "\n",
        "\n",
        "  \"\"\"\n",
        "   \n",
        "\n",
        "  def __init__(self,image_path,txt_path,language,mode,image_format,scale, transform=None, target_transform=None):\n",
        "     \n",
        "      text_loader = language + '_' + mode + '.txt'\n",
        "      sentiment_loader = 'sentiment_' + mode+'.txt'\n",
        "      index_file = 'image_index_' + mode + '.txt'\n",
        "      self.image_path = image_path\n",
        "      self.transform = transform\n",
        "      self.target_transform = target_transform\n",
        "      self.mode = mode\n",
        "      self.image_format = image_format\n",
        "      self.scale = scale\n",
        "      for file_names in os.scandir(txt_path):\n",
        "        name_file = os.path.basename(file_names)\n",
        "        if name_file == text_loader:\n",
        "          with open(file_names.path) as f:\n",
        "            self.text_file = [line.rstrip('\\n') for line in f]\n",
        "        if name_file == sentiment_loader:\n",
        "          with open(file_names.path) as f:\n",
        "            self.sentiment_file = [line.rstrip('\\n') for line in f]\n",
        "        if name_file == index_file:\n",
        "          with open(file_names.path) as f:\n",
        "            self.index_file = [line.rstrip('\\n') for line in f]\n",
        "\n",
        "  def __len__(self):\n",
        "      return len(self.text_file)\n",
        "\n",
        "  def __getitem__(self, idx):\n",
        "      image_path_complete = self.image_path + '/' + self.mode + '/'\n",
        "      text_file_chosen = self.text_file[idx]\n",
        "      sentiment_chosen = int(self.sentiment_file[idx])\n",
        "      temp_image = cv2.imread(image_path_complete+str(idx)+ '.' + self.image_format)\n",
        "      n1,n2,n3 = np.shape(temp_image)\n",
        "      if self.scale != 1:\n",
        "        image = resize(temp_image,[int(n1/self.scale),int(n2/self.scale)], anti_aliasing=True)\n",
        "      else:\n",
        "        image = temp_image\n",
        "      if self.transform:\n",
        "          image = self.transform(image)\n",
        "      if self.target_transform:\n",
        "          label = self.target_transform(sentiment_chosen)\n",
        "      return  text_file_chosen,sentiment_chosen,image"
      ]
    },
    {
      "cell_type": "markdown",
      "source": [
        "now we load the vgg image processing model from the previous part"
      ],
      "metadata": {
        "id": "mKpmRdE-pH94"
      }
    },
    {
      "cell_type": "code",
      "source": [
        "model_vgg_trained =torchvision.models.vgg16(pretrained=True)\n",
        "for param in model_vgg_trained.parameters():\n",
        "    param.requires_grad = False\n",
        "\n",
        "# Parameters of newly constructed modules have requires_grad=True by default\n",
        "model_vgg_trained.classifier[6] = nn.Linear(4096, 3) # we have 3 output class\n",
        "model_vgg_trained = model_vgg_trained.to(device)\n",
        "if device == 'cpu':\n",
        "  model_vgg_trained.load_state_dict(torch.load('/content/gdrive/MyDrive/Phase_1_models/vgg_trained/gdrivemodel_vgg_trained_weights.pth',map_location=torch.device('cpu')))\n",
        "else:\n",
        "  model_vgg_trained.load_state_dict(torch.load('/content/gdrive/MyDrive/Phase_1_models/vgg_trained/gdrivemodel_vgg_trained_weights.pth'))\n",
        "model_vgg_trained.eval()"
      ],
      "metadata": {
        "colab": {
          "base_uri": "https://localhost:8080/",
          "height": 981,
          "referenced_widgets": [
            "cbc304ededc24f948a096329873c93ca",
            "97e19304a38943b88285c3de64b79f1e",
            "5948eb42e4254cd3baeab93cfe033954",
            "1911737ed9934f6780fe07d35c1105e4",
            "d208d5e04ad84bf5bbe73eadd8191341",
            "26ac259411b94faeb938608902fd47cd",
            "18d1e32b481b46879788f946a251c271",
            "2f2afa822e954efd90c6f3a7f991937a",
            "1feeadf5a1b54c409eaa2d95fb64add9",
            "7a1247bec64a41ddbcd96a6ebe6fc3ef",
            "ca05efafcac044b78a24cd7e68862f93"
          ]
        },
        "id": "tD5KmNJkuInh",
        "outputId": "533f39e2-3674-4c76-a0cc-16d06e429a5d"
      },
      "execution_count": 9,
      "outputs": [
        {
          "output_type": "stream",
          "name": "stderr",
          "text": [
            "/usr/local/lib/python3.8/dist-packages/torchvision/models/_utils.py:208: UserWarning: The parameter 'pretrained' is deprecated since 0.13 and may be removed in the future, please use 'weights' instead.\n",
            "  warnings.warn(\n",
            "/usr/local/lib/python3.8/dist-packages/torchvision/models/_utils.py:223: UserWarning: Arguments other than a weight enum or `None` for 'weights' are deprecated since 0.13 and may be removed in the future. The current behavior is equivalent to passing `weights=VGG16_Weights.IMAGENET1K_V1`. You can also use `weights=VGG16_Weights.DEFAULT` to get the most up-to-date weights.\n",
            "  warnings.warn(msg)\n",
            "Downloading: \"https://download.pytorch.org/models/vgg16-397923af.pth\" to /root/.cache/torch/hub/checkpoints/vgg16-397923af.pth\n"
          ]
        },
        {
          "output_type": "display_data",
          "data": {
            "text/plain": [
              "  0%|          | 0.00/528M [00:00<?, ?B/s]"
            ],
            "application/vnd.jupyter.widget-view+json": {
              "version_major": 2,
              "version_minor": 0,
              "model_id": "cbc304ededc24f948a096329873c93ca"
            }
          },
          "metadata": {}
        },
        {
          "output_type": "execute_result",
          "data": {
            "text/plain": [
              "VGG(\n",
              "  (features): Sequential(\n",
              "    (0): Conv2d(3, 64, kernel_size=(3, 3), stride=(1, 1), padding=(1, 1))\n",
              "    (1): ReLU(inplace=True)\n",
              "    (2): Conv2d(64, 64, kernel_size=(3, 3), stride=(1, 1), padding=(1, 1))\n",
              "    (3): ReLU(inplace=True)\n",
              "    (4): MaxPool2d(kernel_size=2, stride=2, padding=0, dilation=1, ceil_mode=False)\n",
              "    (5): Conv2d(64, 128, kernel_size=(3, 3), stride=(1, 1), padding=(1, 1))\n",
              "    (6): ReLU(inplace=True)\n",
              "    (7): Conv2d(128, 128, kernel_size=(3, 3), stride=(1, 1), padding=(1, 1))\n",
              "    (8): ReLU(inplace=True)\n",
              "    (9): MaxPool2d(kernel_size=2, stride=2, padding=0, dilation=1, ceil_mode=False)\n",
              "    (10): Conv2d(128, 256, kernel_size=(3, 3), stride=(1, 1), padding=(1, 1))\n",
              "    (11): ReLU(inplace=True)\n",
              "    (12): Conv2d(256, 256, kernel_size=(3, 3), stride=(1, 1), padding=(1, 1))\n",
              "    (13): ReLU(inplace=True)\n",
              "    (14): Conv2d(256, 256, kernel_size=(3, 3), stride=(1, 1), padding=(1, 1))\n",
              "    (15): ReLU(inplace=True)\n",
              "    (16): MaxPool2d(kernel_size=2, stride=2, padding=0, dilation=1, ceil_mode=False)\n",
              "    (17): Conv2d(256, 512, kernel_size=(3, 3), stride=(1, 1), padding=(1, 1))\n",
              "    (18): ReLU(inplace=True)\n",
              "    (19): Conv2d(512, 512, kernel_size=(3, 3), stride=(1, 1), padding=(1, 1))\n",
              "    (20): ReLU(inplace=True)\n",
              "    (21): Conv2d(512, 512, kernel_size=(3, 3), stride=(1, 1), padding=(1, 1))\n",
              "    (22): ReLU(inplace=True)\n",
              "    (23): MaxPool2d(kernel_size=2, stride=2, padding=0, dilation=1, ceil_mode=False)\n",
              "    (24): Conv2d(512, 512, kernel_size=(3, 3), stride=(1, 1), padding=(1, 1))\n",
              "    (25): ReLU(inplace=True)\n",
              "    (26): Conv2d(512, 512, kernel_size=(3, 3), stride=(1, 1), padding=(1, 1))\n",
              "    (27): ReLU(inplace=True)\n",
              "    (28): Conv2d(512, 512, kernel_size=(3, 3), stride=(1, 1), padding=(1, 1))\n",
              "    (29): ReLU(inplace=True)\n",
              "    (30): MaxPool2d(kernel_size=2, stride=2, padding=0, dilation=1, ceil_mode=False)\n",
              "  )\n",
              "  (avgpool): AdaptiveAvgPool2d(output_size=(7, 7))\n",
              "  (classifier): Sequential(\n",
              "    (0): Linear(in_features=25088, out_features=4096, bias=True)\n",
              "    (1): ReLU(inplace=True)\n",
              "    (2): Dropout(p=0.5, inplace=False)\n",
              "    (3): Linear(in_features=4096, out_features=4096, bias=True)\n",
              "    (4): ReLU(inplace=True)\n",
              "    (5): Dropout(p=0.5, inplace=False)\n",
              "    (6): Linear(in_features=4096, out_features=3, bias=True)\n",
              "  )\n",
              ")"
            ]
          },
          "metadata": {},
          "execution_count": 9
        }
      ]
    },
    {
      "cell_type": "code",
      "source": [
        "print(model_vgg_trained)"
      ],
      "metadata": {
        "colab": {
          "base_uri": "https://localhost:8080/"
        },
        "id": "-om8NRRxRUgw",
        "outputId": "b30caa5b-0a0d-43f1-f27b-c3814010bfee"
      },
      "execution_count": 10,
      "outputs": [
        {
          "output_type": "stream",
          "name": "stdout",
          "text": [
            "VGG(\n",
            "  (features): Sequential(\n",
            "    (0): Conv2d(3, 64, kernel_size=(3, 3), stride=(1, 1), padding=(1, 1))\n",
            "    (1): ReLU(inplace=True)\n",
            "    (2): Conv2d(64, 64, kernel_size=(3, 3), stride=(1, 1), padding=(1, 1))\n",
            "    (3): ReLU(inplace=True)\n",
            "    (4): MaxPool2d(kernel_size=2, stride=2, padding=0, dilation=1, ceil_mode=False)\n",
            "    (5): Conv2d(64, 128, kernel_size=(3, 3), stride=(1, 1), padding=(1, 1))\n",
            "    (6): ReLU(inplace=True)\n",
            "    (7): Conv2d(128, 128, kernel_size=(3, 3), stride=(1, 1), padding=(1, 1))\n",
            "    (8): ReLU(inplace=True)\n",
            "    (9): MaxPool2d(kernel_size=2, stride=2, padding=0, dilation=1, ceil_mode=False)\n",
            "    (10): Conv2d(128, 256, kernel_size=(3, 3), stride=(1, 1), padding=(1, 1))\n",
            "    (11): ReLU(inplace=True)\n",
            "    (12): Conv2d(256, 256, kernel_size=(3, 3), stride=(1, 1), padding=(1, 1))\n",
            "    (13): ReLU(inplace=True)\n",
            "    (14): Conv2d(256, 256, kernel_size=(3, 3), stride=(1, 1), padding=(1, 1))\n",
            "    (15): ReLU(inplace=True)\n",
            "    (16): MaxPool2d(kernel_size=2, stride=2, padding=0, dilation=1, ceil_mode=False)\n",
            "    (17): Conv2d(256, 512, kernel_size=(3, 3), stride=(1, 1), padding=(1, 1))\n",
            "    (18): ReLU(inplace=True)\n",
            "    (19): Conv2d(512, 512, kernel_size=(3, 3), stride=(1, 1), padding=(1, 1))\n",
            "    (20): ReLU(inplace=True)\n",
            "    (21): Conv2d(512, 512, kernel_size=(3, 3), stride=(1, 1), padding=(1, 1))\n",
            "    (22): ReLU(inplace=True)\n",
            "    (23): MaxPool2d(kernel_size=2, stride=2, padding=0, dilation=1, ceil_mode=False)\n",
            "    (24): Conv2d(512, 512, kernel_size=(3, 3), stride=(1, 1), padding=(1, 1))\n",
            "    (25): ReLU(inplace=True)\n",
            "    (26): Conv2d(512, 512, kernel_size=(3, 3), stride=(1, 1), padding=(1, 1))\n",
            "    (27): ReLU(inplace=True)\n",
            "    (28): Conv2d(512, 512, kernel_size=(3, 3), stride=(1, 1), padding=(1, 1))\n",
            "    (29): ReLU(inplace=True)\n",
            "    (30): MaxPool2d(kernel_size=2, stride=2, padding=0, dilation=1, ceil_mode=False)\n",
            "  )\n",
            "  (avgpool): AdaptiveAvgPool2d(output_size=(7, 7))\n",
            "  (classifier): Sequential(\n",
            "    (0): Linear(in_features=25088, out_features=4096, bias=True)\n",
            "    (1): ReLU(inplace=True)\n",
            "    (2): Dropout(p=0.5, inplace=False)\n",
            "    (3): Linear(in_features=4096, out_features=4096, bias=True)\n",
            "    (4): ReLU(inplace=True)\n",
            "    (5): Dropout(p=0.5, inplace=False)\n",
            "    (6): Linear(in_features=4096, out_features=3, bias=True)\n",
            "  )\n",
            ")\n"
          ]
        }
      ]
    },
    {
      "cell_type": "markdown",
      "source": [
        "here we load the resnet model for face analysis part"
      ],
      "metadata": {
        "id": "vA-3kE6YpOvB"
      }
    },
    {
      "cell_type": "code",
      "source": [
        "model_resnet_trained= torchvision.models.resnet50(pretrained=True)\n",
        "\n",
        "# Parameters of newly constructed modules have requires_grad=True by default\n",
        "num_ftrs = model_resnet_trained.fc.in_features\n",
        "model_resnet_trained.fc = nn.Linear(num_ftrs, 3) # we have 10 output class\n",
        "\n",
        "model_resnet_trained= model_resnet_trained.to(device)\n",
        "if device == 'cpu':\n",
        "  model_resnet_trained.load_state_dict(torch.load('/content/gdrive/MyDrive/Phase_1_models/resnet_trained',map_location=torch.device('cpu')))\n",
        "else:\n",
        "  model_resnet_trained.load_state_dict(torch.load('/content/gdrive/MyDrive/Phase_1_models/resnet_trained'))\n",
        "model_resnet_trained.eval()"
      ],
      "metadata": {
        "colab": {
          "base_uri": "https://localhost:8080/",
          "height": 1000,
          "referenced_widgets": [
            "ad6b896fe1b24d98bc8e1c7531e46882",
            "849ebfe1e5844bf88d5e35123296126d",
            "885a6216816341f2b8d201161e526652",
            "985aca2907484a4faa6f9755b2a91d2a",
            "5bab55662b0e48d38652522e0fbdbead",
            "2fb15503dadd4dbfb9f6c20b2763f5d6",
            "d19ac633783641e98dee566bb32f2608",
            "d437e00e204f4bb188bf61284008de56",
            "ad5fefe0ff674b328f6fbbee0b9389dc",
            "9c03eaa59f7f4961a69980ec05c55787",
            "9e31e3432d4545188cc2c5723c8107c6"
          ]
        },
        "id": "E7YESk4h1_DL",
        "outputId": "ecdf150c-7da7-42e4-df31-6bc3e06e22ac"
      },
      "execution_count": 11,
      "outputs": [
        {
          "output_type": "stream",
          "name": "stderr",
          "text": [
            "/usr/local/lib/python3.8/dist-packages/torchvision/models/_utils.py:223: UserWarning: Arguments other than a weight enum or `None` for 'weights' are deprecated since 0.13 and may be removed in the future. The current behavior is equivalent to passing `weights=ResNet50_Weights.IMAGENET1K_V1`. You can also use `weights=ResNet50_Weights.DEFAULT` to get the most up-to-date weights.\n",
            "  warnings.warn(msg)\n",
            "Downloading: \"https://download.pytorch.org/models/resnet50-0676ba61.pth\" to /root/.cache/torch/hub/checkpoints/resnet50-0676ba61.pth\n"
          ]
        },
        {
          "output_type": "display_data",
          "data": {
            "text/plain": [
              "  0%|          | 0.00/97.8M [00:00<?, ?B/s]"
            ],
            "application/vnd.jupyter.widget-view+json": {
              "version_major": 2,
              "version_minor": 0,
              "model_id": "ad6b896fe1b24d98bc8e1c7531e46882"
            }
          },
          "metadata": {}
        },
        {
          "output_type": "execute_result",
          "data": {
            "text/plain": [
              "ResNet(\n",
              "  (conv1): Conv2d(3, 64, kernel_size=(7, 7), stride=(2, 2), padding=(3, 3), bias=False)\n",
              "  (bn1): BatchNorm2d(64, eps=1e-05, momentum=0.1, affine=True, track_running_stats=True)\n",
              "  (relu): ReLU(inplace=True)\n",
              "  (maxpool): MaxPool2d(kernel_size=3, stride=2, padding=1, dilation=1, ceil_mode=False)\n",
              "  (layer1): Sequential(\n",
              "    (0): Bottleneck(\n",
              "      (conv1): Conv2d(64, 64, kernel_size=(1, 1), stride=(1, 1), bias=False)\n",
              "      (bn1): BatchNorm2d(64, eps=1e-05, momentum=0.1, affine=True, track_running_stats=True)\n",
              "      (conv2): Conv2d(64, 64, kernel_size=(3, 3), stride=(1, 1), padding=(1, 1), bias=False)\n",
              "      (bn2): BatchNorm2d(64, eps=1e-05, momentum=0.1, affine=True, track_running_stats=True)\n",
              "      (conv3): Conv2d(64, 256, kernel_size=(1, 1), stride=(1, 1), bias=False)\n",
              "      (bn3): BatchNorm2d(256, eps=1e-05, momentum=0.1, affine=True, track_running_stats=True)\n",
              "      (relu): ReLU(inplace=True)\n",
              "      (downsample): Sequential(\n",
              "        (0): Conv2d(64, 256, kernel_size=(1, 1), stride=(1, 1), bias=False)\n",
              "        (1): BatchNorm2d(256, eps=1e-05, momentum=0.1, affine=True, track_running_stats=True)\n",
              "      )\n",
              "    )\n",
              "    (1): Bottleneck(\n",
              "      (conv1): Conv2d(256, 64, kernel_size=(1, 1), stride=(1, 1), bias=False)\n",
              "      (bn1): BatchNorm2d(64, eps=1e-05, momentum=0.1, affine=True, track_running_stats=True)\n",
              "      (conv2): Conv2d(64, 64, kernel_size=(3, 3), stride=(1, 1), padding=(1, 1), bias=False)\n",
              "      (bn2): BatchNorm2d(64, eps=1e-05, momentum=0.1, affine=True, track_running_stats=True)\n",
              "      (conv3): Conv2d(64, 256, kernel_size=(1, 1), stride=(1, 1), bias=False)\n",
              "      (bn3): BatchNorm2d(256, eps=1e-05, momentum=0.1, affine=True, track_running_stats=True)\n",
              "      (relu): ReLU(inplace=True)\n",
              "    )\n",
              "    (2): Bottleneck(\n",
              "      (conv1): Conv2d(256, 64, kernel_size=(1, 1), stride=(1, 1), bias=False)\n",
              "      (bn1): BatchNorm2d(64, eps=1e-05, momentum=0.1, affine=True, track_running_stats=True)\n",
              "      (conv2): Conv2d(64, 64, kernel_size=(3, 3), stride=(1, 1), padding=(1, 1), bias=False)\n",
              "      (bn2): BatchNorm2d(64, eps=1e-05, momentum=0.1, affine=True, track_running_stats=True)\n",
              "      (conv3): Conv2d(64, 256, kernel_size=(1, 1), stride=(1, 1), bias=False)\n",
              "      (bn3): BatchNorm2d(256, eps=1e-05, momentum=0.1, affine=True, track_running_stats=True)\n",
              "      (relu): ReLU(inplace=True)\n",
              "    )\n",
              "  )\n",
              "  (layer2): Sequential(\n",
              "    (0): Bottleneck(\n",
              "      (conv1): Conv2d(256, 128, kernel_size=(1, 1), stride=(1, 1), bias=False)\n",
              "      (bn1): BatchNorm2d(128, eps=1e-05, momentum=0.1, affine=True, track_running_stats=True)\n",
              "      (conv2): Conv2d(128, 128, kernel_size=(3, 3), stride=(2, 2), padding=(1, 1), bias=False)\n",
              "      (bn2): BatchNorm2d(128, eps=1e-05, momentum=0.1, affine=True, track_running_stats=True)\n",
              "      (conv3): Conv2d(128, 512, kernel_size=(1, 1), stride=(1, 1), bias=False)\n",
              "      (bn3): BatchNorm2d(512, eps=1e-05, momentum=0.1, affine=True, track_running_stats=True)\n",
              "      (relu): ReLU(inplace=True)\n",
              "      (downsample): Sequential(\n",
              "        (0): Conv2d(256, 512, kernel_size=(1, 1), stride=(2, 2), bias=False)\n",
              "        (1): BatchNorm2d(512, eps=1e-05, momentum=0.1, affine=True, track_running_stats=True)\n",
              "      )\n",
              "    )\n",
              "    (1): Bottleneck(\n",
              "      (conv1): Conv2d(512, 128, kernel_size=(1, 1), stride=(1, 1), bias=False)\n",
              "      (bn1): BatchNorm2d(128, eps=1e-05, momentum=0.1, affine=True, track_running_stats=True)\n",
              "      (conv2): Conv2d(128, 128, kernel_size=(3, 3), stride=(1, 1), padding=(1, 1), bias=False)\n",
              "      (bn2): BatchNorm2d(128, eps=1e-05, momentum=0.1, affine=True, track_running_stats=True)\n",
              "      (conv3): Conv2d(128, 512, kernel_size=(1, 1), stride=(1, 1), bias=False)\n",
              "      (bn3): BatchNorm2d(512, eps=1e-05, momentum=0.1, affine=True, track_running_stats=True)\n",
              "      (relu): ReLU(inplace=True)\n",
              "    )\n",
              "    (2): Bottleneck(\n",
              "      (conv1): Conv2d(512, 128, kernel_size=(1, 1), stride=(1, 1), bias=False)\n",
              "      (bn1): BatchNorm2d(128, eps=1e-05, momentum=0.1, affine=True, track_running_stats=True)\n",
              "      (conv2): Conv2d(128, 128, kernel_size=(3, 3), stride=(1, 1), padding=(1, 1), bias=False)\n",
              "      (bn2): BatchNorm2d(128, eps=1e-05, momentum=0.1, affine=True, track_running_stats=True)\n",
              "      (conv3): Conv2d(128, 512, kernel_size=(1, 1), stride=(1, 1), bias=False)\n",
              "      (bn3): BatchNorm2d(512, eps=1e-05, momentum=0.1, affine=True, track_running_stats=True)\n",
              "      (relu): ReLU(inplace=True)\n",
              "    )\n",
              "    (3): Bottleneck(\n",
              "      (conv1): Conv2d(512, 128, kernel_size=(1, 1), stride=(1, 1), bias=False)\n",
              "      (bn1): BatchNorm2d(128, eps=1e-05, momentum=0.1, affine=True, track_running_stats=True)\n",
              "      (conv2): Conv2d(128, 128, kernel_size=(3, 3), stride=(1, 1), padding=(1, 1), bias=False)\n",
              "      (bn2): BatchNorm2d(128, eps=1e-05, momentum=0.1, affine=True, track_running_stats=True)\n",
              "      (conv3): Conv2d(128, 512, kernel_size=(1, 1), stride=(1, 1), bias=False)\n",
              "      (bn3): BatchNorm2d(512, eps=1e-05, momentum=0.1, affine=True, track_running_stats=True)\n",
              "      (relu): ReLU(inplace=True)\n",
              "    )\n",
              "  )\n",
              "  (layer3): Sequential(\n",
              "    (0): Bottleneck(\n",
              "      (conv1): Conv2d(512, 256, kernel_size=(1, 1), stride=(1, 1), bias=False)\n",
              "      (bn1): BatchNorm2d(256, eps=1e-05, momentum=0.1, affine=True, track_running_stats=True)\n",
              "      (conv2): Conv2d(256, 256, kernel_size=(3, 3), stride=(2, 2), padding=(1, 1), bias=False)\n",
              "      (bn2): BatchNorm2d(256, eps=1e-05, momentum=0.1, affine=True, track_running_stats=True)\n",
              "      (conv3): Conv2d(256, 1024, kernel_size=(1, 1), stride=(1, 1), bias=False)\n",
              "      (bn3): BatchNorm2d(1024, eps=1e-05, momentum=0.1, affine=True, track_running_stats=True)\n",
              "      (relu): ReLU(inplace=True)\n",
              "      (downsample): Sequential(\n",
              "        (0): Conv2d(512, 1024, kernel_size=(1, 1), stride=(2, 2), bias=False)\n",
              "        (1): BatchNorm2d(1024, eps=1e-05, momentum=0.1, affine=True, track_running_stats=True)\n",
              "      )\n",
              "    )\n",
              "    (1): Bottleneck(\n",
              "      (conv1): Conv2d(1024, 256, kernel_size=(1, 1), stride=(1, 1), bias=False)\n",
              "      (bn1): BatchNorm2d(256, eps=1e-05, momentum=0.1, affine=True, track_running_stats=True)\n",
              "      (conv2): Conv2d(256, 256, kernel_size=(3, 3), stride=(1, 1), padding=(1, 1), bias=False)\n",
              "      (bn2): BatchNorm2d(256, eps=1e-05, momentum=0.1, affine=True, track_running_stats=True)\n",
              "      (conv3): Conv2d(256, 1024, kernel_size=(1, 1), stride=(1, 1), bias=False)\n",
              "      (bn3): BatchNorm2d(1024, eps=1e-05, momentum=0.1, affine=True, track_running_stats=True)\n",
              "      (relu): ReLU(inplace=True)\n",
              "    )\n",
              "    (2): Bottleneck(\n",
              "      (conv1): Conv2d(1024, 256, kernel_size=(1, 1), stride=(1, 1), bias=False)\n",
              "      (bn1): BatchNorm2d(256, eps=1e-05, momentum=0.1, affine=True, track_running_stats=True)\n",
              "      (conv2): Conv2d(256, 256, kernel_size=(3, 3), stride=(1, 1), padding=(1, 1), bias=False)\n",
              "      (bn2): BatchNorm2d(256, eps=1e-05, momentum=0.1, affine=True, track_running_stats=True)\n",
              "      (conv3): Conv2d(256, 1024, kernel_size=(1, 1), stride=(1, 1), bias=False)\n",
              "      (bn3): BatchNorm2d(1024, eps=1e-05, momentum=0.1, affine=True, track_running_stats=True)\n",
              "      (relu): ReLU(inplace=True)\n",
              "    )\n",
              "    (3): Bottleneck(\n",
              "      (conv1): Conv2d(1024, 256, kernel_size=(1, 1), stride=(1, 1), bias=False)\n",
              "      (bn1): BatchNorm2d(256, eps=1e-05, momentum=0.1, affine=True, track_running_stats=True)\n",
              "      (conv2): Conv2d(256, 256, kernel_size=(3, 3), stride=(1, 1), padding=(1, 1), bias=False)\n",
              "      (bn2): BatchNorm2d(256, eps=1e-05, momentum=0.1, affine=True, track_running_stats=True)\n",
              "      (conv3): Conv2d(256, 1024, kernel_size=(1, 1), stride=(1, 1), bias=False)\n",
              "      (bn3): BatchNorm2d(1024, eps=1e-05, momentum=0.1, affine=True, track_running_stats=True)\n",
              "      (relu): ReLU(inplace=True)\n",
              "    )\n",
              "    (4): Bottleneck(\n",
              "      (conv1): Conv2d(1024, 256, kernel_size=(1, 1), stride=(1, 1), bias=False)\n",
              "      (bn1): BatchNorm2d(256, eps=1e-05, momentum=0.1, affine=True, track_running_stats=True)\n",
              "      (conv2): Conv2d(256, 256, kernel_size=(3, 3), stride=(1, 1), padding=(1, 1), bias=False)\n",
              "      (bn2): BatchNorm2d(256, eps=1e-05, momentum=0.1, affine=True, track_running_stats=True)\n",
              "      (conv3): Conv2d(256, 1024, kernel_size=(1, 1), stride=(1, 1), bias=False)\n",
              "      (bn3): BatchNorm2d(1024, eps=1e-05, momentum=0.1, affine=True, track_running_stats=True)\n",
              "      (relu): ReLU(inplace=True)\n",
              "    )\n",
              "    (5): Bottleneck(\n",
              "      (conv1): Conv2d(1024, 256, kernel_size=(1, 1), stride=(1, 1), bias=False)\n",
              "      (bn1): BatchNorm2d(256, eps=1e-05, momentum=0.1, affine=True, track_running_stats=True)\n",
              "      (conv2): Conv2d(256, 256, kernel_size=(3, 3), stride=(1, 1), padding=(1, 1), bias=False)\n",
              "      (bn2): BatchNorm2d(256, eps=1e-05, momentum=0.1, affine=True, track_running_stats=True)\n",
              "      (conv3): Conv2d(256, 1024, kernel_size=(1, 1), stride=(1, 1), bias=False)\n",
              "      (bn3): BatchNorm2d(1024, eps=1e-05, momentum=0.1, affine=True, track_running_stats=True)\n",
              "      (relu): ReLU(inplace=True)\n",
              "    )\n",
              "  )\n",
              "  (layer4): Sequential(\n",
              "    (0): Bottleneck(\n",
              "      (conv1): Conv2d(1024, 512, kernel_size=(1, 1), stride=(1, 1), bias=False)\n",
              "      (bn1): BatchNorm2d(512, eps=1e-05, momentum=0.1, affine=True, track_running_stats=True)\n",
              "      (conv2): Conv2d(512, 512, kernel_size=(3, 3), stride=(2, 2), padding=(1, 1), bias=False)\n",
              "      (bn2): BatchNorm2d(512, eps=1e-05, momentum=0.1, affine=True, track_running_stats=True)\n",
              "      (conv3): Conv2d(512, 2048, kernel_size=(1, 1), stride=(1, 1), bias=False)\n",
              "      (bn3): BatchNorm2d(2048, eps=1e-05, momentum=0.1, affine=True, track_running_stats=True)\n",
              "      (relu): ReLU(inplace=True)\n",
              "      (downsample): Sequential(\n",
              "        (0): Conv2d(1024, 2048, kernel_size=(1, 1), stride=(2, 2), bias=False)\n",
              "        (1): BatchNorm2d(2048, eps=1e-05, momentum=0.1, affine=True, track_running_stats=True)\n",
              "      )\n",
              "    )\n",
              "    (1): Bottleneck(\n",
              "      (conv1): Conv2d(2048, 512, kernel_size=(1, 1), stride=(1, 1), bias=False)\n",
              "      (bn1): BatchNorm2d(512, eps=1e-05, momentum=0.1, affine=True, track_running_stats=True)\n",
              "      (conv2): Conv2d(512, 512, kernel_size=(3, 3), stride=(1, 1), padding=(1, 1), bias=False)\n",
              "      (bn2): BatchNorm2d(512, eps=1e-05, momentum=0.1, affine=True, track_running_stats=True)\n",
              "      (conv3): Conv2d(512, 2048, kernel_size=(1, 1), stride=(1, 1), bias=False)\n",
              "      (bn3): BatchNorm2d(2048, eps=1e-05, momentum=0.1, affine=True, track_running_stats=True)\n",
              "      (relu): ReLU(inplace=True)\n",
              "    )\n",
              "    (2): Bottleneck(\n",
              "      (conv1): Conv2d(2048, 512, kernel_size=(1, 1), stride=(1, 1), bias=False)\n",
              "      (bn1): BatchNorm2d(512, eps=1e-05, momentum=0.1, affine=True, track_running_stats=True)\n",
              "      (conv2): Conv2d(512, 512, kernel_size=(3, 3), stride=(1, 1), padding=(1, 1), bias=False)\n",
              "      (bn2): BatchNorm2d(512, eps=1e-05, momentum=0.1, affine=True, track_running_stats=True)\n",
              "      (conv3): Conv2d(512, 2048, kernel_size=(1, 1), stride=(1, 1), bias=False)\n",
              "      (bn3): BatchNorm2d(2048, eps=1e-05, momentum=0.1, affine=True, track_running_stats=True)\n",
              "      (relu): ReLU(inplace=True)\n",
              "    )\n",
              "  )\n",
              "  (avgpool): AdaptiveAvgPool2d(output_size=(1, 1))\n",
              "  (fc): Linear(in_features=2048, out_features=3, bias=True)\n",
              ")"
            ]
          },
          "metadata": {},
          "execution_count": 11
        }
      ]
    },
    {
      "cell_type": "code",
      "source": [
        "print(model_resnet_trained)"
      ],
      "metadata": {
        "colab": {
          "base_uri": "https://localhost:8080/"
        },
        "id": "6dV5LN8nixR8",
        "outputId": "37d9a6c7-f59a-40a5-9e25-761397e0ad99"
      },
      "execution_count": 12,
      "outputs": [
        {
          "output_type": "stream",
          "name": "stdout",
          "text": [
            "ResNet(\n",
            "  (conv1): Conv2d(3, 64, kernel_size=(7, 7), stride=(2, 2), padding=(3, 3), bias=False)\n",
            "  (bn1): BatchNorm2d(64, eps=1e-05, momentum=0.1, affine=True, track_running_stats=True)\n",
            "  (relu): ReLU(inplace=True)\n",
            "  (maxpool): MaxPool2d(kernel_size=3, stride=2, padding=1, dilation=1, ceil_mode=False)\n",
            "  (layer1): Sequential(\n",
            "    (0): Bottleneck(\n",
            "      (conv1): Conv2d(64, 64, kernel_size=(1, 1), stride=(1, 1), bias=False)\n",
            "      (bn1): BatchNorm2d(64, eps=1e-05, momentum=0.1, affine=True, track_running_stats=True)\n",
            "      (conv2): Conv2d(64, 64, kernel_size=(3, 3), stride=(1, 1), padding=(1, 1), bias=False)\n",
            "      (bn2): BatchNorm2d(64, eps=1e-05, momentum=0.1, affine=True, track_running_stats=True)\n",
            "      (conv3): Conv2d(64, 256, kernel_size=(1, 1), stride=(1, 1), bias=False)\n",
            "      (bn3): BatchNorm2d(256, eps=1e-05, momentum=0.1, affine=True, track_running_stats=True)\n",
            "      (relu): ReLU(inplace=True)\n",
            "      (downsample): Sequential(\n",
            "        (0): Conv2d(64, 256, kernel_size=(1, 1), stride=(1, 1), bias=False)\n",
            "        (1): BatchNorm2d(256, eps=1e-05, momentum=0.1, affine=True, track_running_stats=True)\n",
            "      )\n",
            "    )\n",
            "    (1): Bottleneck(\n",
            "      (conv1): Conv2d(256, 64, kernel_size=(1, 1), stride=(1, 1), bias=False)\n",
            "      (bn1): BatchNorm2d(64, eps=1e-05, momentum=0.1, affine=True, track_running_stats=True)\n",
            "      (conv2): Conv2d(64, 64, kernel_size=(3, 3), stride=(1, 1), padding=(1, 1), bias=False)\n",
            "      (bn2): BatchNorm2d(64, eps=1e-05, momentum=0.1, affine=True, track_running_stats=True)\n",
            "      (conv3): Conv2d(64, 256, kernel_size=(1, 1), stride=(1, 1), bias=False)\n",
            "      (bn3): BatchNorm2d(256, eps=1e-05, momentum=0.1, affine=True, track_running_stats=True)\n",
            "      (relu): ReLU(inplace=True)\n",
            "    )\n",
            "    (2): Bottleneck(\n",
            "      (conv1): Conv2d(256, 64, kernel_size=(1, 1), stride=(1, 1), bias=False)\n",
            "      (bn1): BatchNorm2d(64, eps=1e-05, momentum=0.1, affine=True, track_running_stats=True)\n",
            "      (conv2): Conv2d(64, 64, kernel_size=(3, 3), stride=(1, 1), padding=(1, 1), bias=False)\n",
            "      (bn2): BatchNorm2d(64, eps=1e-05, momentum=0.1, affine=True, track_running_stats=True)\n",
            "      (conv3): Conv2d(64, 256, kernel_size=(1, 1), stride=(1, 1), bias=False)\n",
            "      (bn3): BatchNorm2d(256, eps=1e-05, momentum=0.1, affine=True, track_running_stats=True)\n",
            "      (relu): ReLU(inplace=True)\n",
            "    )\n",
            "  )\n",
            "  (layer2): Sequential(\n",
            "    (0): Bottleneck(\n",
            "      (conv1): Conv2d(256, 128, kernel_size=(1, 1), stride=(1, 1), bias=False)\n",
            "      (bn1): BatchNorm2d(128, eps=1e-05, momentum=0.1, affine=True, track_running_stats=True)\n",
            "      (conv2): Conv2d(128, 128, kernel_size=(3, 3), stride=(2, 2), padding=(1, 1), bias=False)\n",
            "      (bn2): BatchNorm2d(128, eps=1e-05, momentum=0.1, affine=True, track_running_stats=True)\n",
            "      (conv3): Conv2d(128, 512, kernel_size=(1, 1), stride=(1, 1), bias=False)\n",
            "      (bn3): BatchNorm2d(512, eps=1e-05, momentum=0.1, affine=True, track_running_stats=True)\n",
            "      (relu): ReLU(inplace=True)\n",
            "      (downsample): Sequential(\n",
            "        (0): Conv2d(256, 512, kernel_size=(1, 1), stride=(2, 2), bias=False)\n",
            "        (1): BatchNorm2d(512, eps=1e-05, momentum=0.1, affine=True, track_running_stats=True)\n",
            "      )\n",
            "    )\n",
            "    (1): Bottleneck(\n",
            "      (conv1): Conv2d(512, 128, kernel_size=(1, 1), stride=(1, 1), bias=False)\n",
            "      (bn1): BatchNorm2d(128, eps=1e-05, momentum=0.1, affine=True, track_running_stats=True)\n",
            "      (conv2): Conv2d(128, 128, kernel_size=(3, 3), stride=(1, 1), padding=(1, 1), bias=False)\n",
            "      (bn2): BatchNorm2d(128, eps=1e-05, momentum=0.1, affine=True, track_running_stats=True)\n",
            "      (conv3): Conv2d(128, 512, kernel_size=(1, 1), stride=(1, 1), bias=False)\n",
            "      (bn3): BatchNorm2d(512, eps=1e-05, momentum=0.1, affine=True, track_running_stats=True)\n",
            "      (relu): ReLU(inplace=True)\n",
            "    )\n",
            "    (2): Bottleneck(\n",
            "      (conv1): Conv2d(512, 128, kernel_size=(1, 1), stride=(1, 1), bias=False)\n",
            "      (bn1): BatchNorm2d(128, eps=1e-05, momentum=0.1, affine=True, track_running_stats=True)\n",
            "      (conv2): Conv2d(128, 128, kernel_size=(3, 3), stride=(1, 1), padding=(1, 1), bias=False)\n",
            "      (bn2): BatchNorm2d(128, eps=1e-05, momentum=0.1, affine=True, track_running_stats=True)\n",
            "      (conv3): Conv2d(128, 512, kernel_size=(1, 1), stride=(1, 1), bias=False)\n",
            "      (bn3): BatchNorm2d(512, eps=1e-05, momentum=0.1, affine=True, track_running_stats=True)\n",
            "      (relu): ReLU(inplace=True)\n",
            "    )\n",
            "    (3): Bottleneck(\n",
            "      (conv1): Conv2d(512, 128, kernel_size=(1, 1), stride=(1, 1), bias=False)\n",
            "      (bn1): BatchNorm2d(128, eps=1e-05, momentum=0.1, affine=True, track_running_stats=True)\n",
            "      (conv2): Conv2d(128, 128, kernel_size=(3, 3), stride=(1, 1), padding=(1, 1), bias=False)\n",
            "      (bn2): BatchNorm2d(128, eps=1e-05, momentum=0.1, affine=True, track_running_stats=True)\n",
            "      (conv3): Conv2d(128, 512, kernel_size=(1, 1), stride=(1, 1), bias=False)\n",
            "      (bn3): BatchNorm2d(512, eps=1e-05, momentum=0.1, affine=True, track_running_stats=True)\n",
            "      (relu): ReLU(inplace=True)\n",
            "    )\n",
            "  )\n",
            "  (layer3): Sequential(\n",
            "    (0): Bottleneck(\n",
            "      (conv1): Conv2d(512, 256, kernel_size=(1, 1), stride=(1, 1), bias=False)\n",
            "      (bn1): BatchNorm2d(256, eps=1e-05, momentum=0.1, affine=True, track_running_stats=True)\n",
            "      (conv2): Conv2d(256, 256, kernel_size=(3, 3), stride=(2, 2), padding=(1, 1), bias=False)\n",
            "      (bn2): BatchNorm2d(256, eps=1e-05, momentum=0.1, affine=True, track_running_stats=True)\n",
            "      (conv3): Conv2d(256, 1024, kernel_size=(1, 1), stride=(1, 1), bias=False)\n",
            "      (bn3): BatchNorm2d(1024, eps=1e-05, momentum=0.1, affine=True, track_running_stats=True)\n",
            "      (relu): ReLU(inplace=True)\n",
            "      (downsample): Sequential(\n",
            "        (0): Conv2d(512, 1024, kernel_size=(1, 1), stride=(2, 2), bias=False)\n",
            "        (1): BatchNorm2d(1024, eps=1e-05, momentum=0.1, affine=True, track_running_stats=True)\n",
            "      )\n",
            "    )\n",
            "    (1): Bottleneck(\n",
            "      (conv1): Conv2d(1024, 256, kernel_size=(1, 1), stride=(1, 1), bias=False)\n",
            "      (bn1): BatchNorm2d(256, eps=1e-05, momentum=0.1, affine=True, track_running_stats=True)\n",
            "      (conv2): Conv2d(256, 256, kernel_size=(3, 3), stride=(1, 1), padding=(1, 1), bias=False)\n",
            "      (bn2): BatchNorm2d(256, eps=1e-05, momentum=0.1, affine=True, track_running_stats=True)\n",
            "      (conv3): Conv2d(256, 1024, kernel_size=(1, 1), stride=(1, 1), bias=False)\n",
            "      (bn3): BatchNorm2d(1024, eps=1e-05, momentum=0.1, affine=True, track_running_stats=True)\n",
            "      (relu): ReLU(inplace=True)\n",
            "    )\n",
            "    (2): Bottleneck(\n",
            "      (conv1): Conv2d(1024, 256, kernel_size=(1, 1), stride=(1, 1), bias=False)\n",
            "      (bn1): BatchNorm2d(256, eps=1e-05, momentum=0.1, affine=True, track_running_stats=True)\n",
            "      (conv2): Conv2d(256, 256, kernel_size=(3, 3), stride=(1, 1), padding=(1, 1), bias=False)\n",
            "      (bn2): BatchNorm2d(256, eps=1e-05, momentum=0.1, affine=True, track_running_stats=True)\n",
            "      (conv3): Conv2d(256, 1024, kernel_size=(1, 1), stride=(1, 1), bias=False)\n",
            "      (bn3): BatchNorm2d(1024, eps=1e-05, momentum=0.1, affine=True, track_running_stats=True)\n",
            "      (relu): ReLU(inplace=True)\n",
            "    )\n",
            "    (3): Bottleneck(\n",
            "      (conv1): Conv2d(1024, 256, kernel_size=(1, 1), stride=(1, 1), bias=False)\n",
            "      (bn1): BatchNorm2d(256, eps=1e-05, momentum=0.1, affine=True, track_running_stats=True)\n",
            "      (conv2): Conv2d(256, 256, kernel_size=(3, 3), stride=(1, 1), padding=(1, 1), bias=False)\n",
            "      (bn2): BatchNorm2d(256, eps=1e-05, momentum=0.1, affine=True, track_running_stats=True)\n",
            "      (conv3): Conv2d(256, 1024, kernel_size=(1, 1), stride=(1, 1), bias=False)\n",
            "      (bn3): BatchNorm2d(1024, eps=1e-05, momentum=0.1, affine=True, track_running_stats=True)\n",
            "      (relu): ReLU(inplace=True)\n",
            "    )\n",
            "    (4): Bottleneck(\n",
            "      (conv1): Conv2d(1024, 256, kernel_size=(1, 1), stride=(1, 1), bias=False)\n",
            "      (bn1): BatchNorm2d(256, eps=1e-05, momentum=0.1, affine=True, track_running_stats=True)\n",
            "      (conv2): Conv2d(256, 256, kernel_size=(3, 3), stride=(1, 1), padding=(1, 1), bias=False)\n",
            "      (bn2): BatchNorm2d(256, eps=1e-05, momentum=0.1, affine=True, track_running_stats=True)\n",
            "      (conv3): Conv2d(256, 1024, kernel_size=(1, 1), stride=(1, 1), bias=False)\n",
            "      (bn3): BatchNorm2d(1024, eps=1e-05, momentum=0.1, affine=True, track_running_stats=True)\n",
            "      (relu): ReLU(inplace=True)\n",
            "    )\n",
            "    (5): Bottleneck(\n",
            "      (conv1): Conv2d(1024, 256, kernel_size=(1, 1), stride=(1, 1), bias=False)\n",
            "      (bn1): BatchNorm2d(256, eps=1e-05, momentum=0.1, affine=True, track_running_stats=True)\n",
            "      (conv2): Conv2d(256, 256, kernel_size=(3, 3), stride=(1, 1), padding=(1, 1), bias=False)\n",
            "      (bn2): BatchNorm2d(256, eps=1e-05, momentum=0.1, affine=True, track_running_stats=True)\n",
            "      (conv3): Conv2d(256, 1024, kernel_size=(1, 1), stride=(1, 1), bias=False)\n",
            "      (bn3): BatchNorm2d(1024, eps=1e-05, momentum=0.1, affine=True, track_running_stats=True)\n",
            "      (relu): ReLU(inplace=True)\n",
            "    )\n",
            "  )\n",
            "  (layer4): Sequential(\n",
            "    (0): Bottleneck(\n",
            "      (conv1): Conv2d(1024, 512, kernel_size=(1, 1), stride=(1, 1), bias=False)\n",
            "      (bn1): BatchNorm2d(512, eps=1e-05, momentum=0.1, affine=True, track_running_stats=True)\n",
            "      (conv2): Conv2d(512, 512, kernel_size=(3, 3), stride=(2, 2), padding=(1, 1), bias=False)\n",
            "      (bn2): BatchNorm2d(512, eps=1e-05, momentum=0.1, affine=True, track_running_stats=True)\n",
            "      (conv3): Conv2d(512, 2048, kernel_size=(1, 1), stride=(1, 1), bias=False)\n",
            "      (bn3): BatchNorm2d(2048, eps=1e-05, momentum=0.1, affine=True, track_running_stats=True)\n",
            "      (relu): ReLU(inplace=True)\n",
            "      (downsample): Sequential(\n",
            "        (0): Conv2d(1024, 2048, kernel_size=(1, 1), stride=(2, 2), bias=False)\n",
            "        (1): BatchNorm2d(2048, eps=1e-05, momentum=0.1, affine=True, track_running_stats=True)\n",
            "      )\n",
            "    )\n",
            "    (1): Bottleneck(\n",
            "      (conv1): Conv2d(2048, 512, kernel_size=(1, 1), stride=(1, 1), bias=False)\n",
            "      (bn1): BatchNorm2d(512, eps=1e-05, momentum=0.1, affine=True, track_running_stats=True)\n",
            "      (conv2): Conv2d(512, 512, kernel_size=(3, 3), stride=(1, 1), padding=(1, 1), bias=False)\n",
            "      (bn2): BatchNorm2d(512, eps=1e-05, momentum=0.1, affine=True, track_running_stats=True)\n",
            "      (conv3): Conv2d(512, 2048, kernel_size=(1, 1), stride=(1, 1), bias=False)\n",
            "      (bn3): BatchNorm2d(2048, eps=1e-05, momentum=0.1, affine=True, track_running_stats=True)\n",
            "      (relu): ReLU(inplace=True)\n",
            "    )\n",
            "    (2): Bottleneck(\n",
            "      (conv1): Conv2d(2048, 512, kernel_size=(1, 1), stride=(1, 1), bias=False)\n",
            "      (bn1): BatchNorm2d(512, eps=1e-05, momentum=0.1, affine=True, track_running_stats=True)\n",
            "      (conv2): Conv2d(512, 512, kernel_size=(3, 3), stride=(1, 1), padding=(1, 1), bias=False)\n",
            "      (bn2): BatchNorm2d(512, eps=1e-05, momentum=0.1, affine=True, track_running_stats=True)\n",
            "      (conv3): Conv2d(512, 2048, kernel_size=(1, 1), stride=(1, 1), bias=False)\n",
            "      (bn3): BatchNorm2d(2048, eps=1e-05, momentum=0.1, affine=True, track_running_stats=True)\n",
            "      (relu): ReLU(inplace=True)\n",
            "    )\n",
            "  )\n",
            "  (avgpool): AdaptiveAvgPool2d(output_size=(1, 1))\n",
            "  (fc): Linear(in_features=2048, out_features=3, bias=True)\n",
            ")\n"
          ]
        }
      ]
    },
    {
      "cell_type": "markdown",
      "source": [
        "this is the mobilenet module for face detection"
      ],
      "metadata": {
        "id": "X78FqmzFpWaP"
      }
    },
    {
      "cell_type": "code",
      "execution_count": 13,
      "metadata": {
        "id": "g1-wkWxbxAGN",
        "colab": {
          "base_uri": "https://localhost:8080/",
          "height": 67,
          "referenced_widgets": [
            "c304e8f066e0465891f956622e3106c4",
            "44e96b33dc1e491f9d23cc97daf193cc",
            "77015872652d45288d002e5d31712346",
            "6b7633308bdd421280f1897c57e8ff63",
            "33a2ea36dfe34b6b88070a121f49f123",
            "908b4374738944a2822d3c6cd24b2532",
            "8e961932ecba41aa8124f57ae6849999",
            "3c4bf9796c3f418fb93ff1e221ddf0af",
            "f4151b27d53a40ce9c1693c9e85ef2c3",
            "2f131bf76cef4c32932939ac86ede070",
            "396b2ce674d04da79041168be66461f5"
          ]
        },
        "outputId": "6549ea7d-6bf6-46af-fc25-5a13b2bda538"
      },
      "outputs": [
        {
          "output_type": "stream",
          "name": "stderr",
          "text": [
            "Downloading: \"https://folk.ntnu.no/haakohu/RetinaFace_mobilenet025.pth\" to /root/.cache/torch/hub/checkpoints/RetinaFace_mobilenet025.pth\n"
          ]
        },
        {
          "output_type": "display_data",
          "data": {
            "text/plain": [
              "  0%|          | 0.00/1.71M [00:00<?, ?B/s]"
            ],
            "application/vnd.jupyter.widget-view+json": {
              "version_major": 2,
              "version_minor": 0,
              "model_id": "c304e8f066e0465891f956622e3106c4"
            }
          },
          "metadata": {}
        }
      ],
      "source": [
        "detector_mobilenet = face_detection.build_detector(\"RetinaNetMobileNetV1\", confidence_threshold=.7, nms_iou_threshold=.3)"
      ]
    },
    {
      "cell_type": "markdown",
      "source": [
        "now we read the dataset with our MSCTD dataset class"
      ],
      "metadata": {
        "id": "sW5dtXgkpc7X"
      }
    },
    {
      "cell_type": "code",
      "execution_count": null,
      "metadata": {
        "id": "J7Z1-BU2xDq4"
      },
      "outputs": [],
      "source": [
        "data_train = MSTCDDate('/content/gdrive/MyDrive/Phase_0_images','/content/MSCTD/MSCTD_data/ende','english','train','jpg',1)\n",
        "text_file_chosen,sentiment_chosen,image = data_train[0] "
      ]
    },
    {
      "cell_type": "code",
      "source": [
        "data_val = MSTCDDate('/content/gdrive/MyDrive/Phase_0_images/dev','/content/MSCTD/MSCTD_data/ende','english','dev','jpg',1)"
      ],
      "metadata": {
        "id": "bA810QQgH3tn"
      },
      "execution_count": 19,
      "outputs": []
    },
    {
      "cell_type": "code",
      "source": [
        "data_test = MSTCDDate('/content/gdrive/MyDrive/Phase_0_images/test','/content/MSCTD/MSCTD_data/ende','english','test','jpg',1)"
      ],
      "metadata": {
        "id": "WEk_x2BLIIpA"
      },
      "execution_count": 14,
      "outputs": []
    },
    {
      "cell_type": "markdown",
      "source": [
        "here are the transforms used for each previous parts"
      ],
      "metadata": {
        "id": "tyziIqc4pj4k"
      }
    },
    {
      "cell_type": "code",
      "source": [
        "transformation_resnet= transforms.Compose([transforms.ToTensor(),transforms.Normalize((0.5,), (0.5,))])\n",
        "transformation_vgg= transforms.Compose([transforms.ToTensor(),transforms.Resize((50,100)),transforms.Normalize((0.485, 0.456, 0.406), (0.229, 0.224, 0.225))])"
      ],
      "metadata": {
        "id": "5GjV4b6BIO3t"
      },
      "execution_count": 15,
      "outputs": []
    },
    {
      "cell_type": "markdown",
      "source": [
        "here we load the labels"
      ],
      "metadata": {
        "id": "bzmxGCuupp7b"
      }
    },
    {
      "cell_type": "code",
      "source": [
        "with open('/content/MSCTD/MSCTD_data/ende/sentiment_train.txt') as f:\n",
        "  sentiment_train = [int(line.rstrip('\\n')) for line in f]\n",
        "with open('/content/MSCTD/MSCTD_data/ende/sentiment_dev.txt') as f:\n",
        "  sentiment_dev = [int(line.rstrip('\\n')) for line in f]\n",
        "with open('/content/MSCTD/MSCTD_data/ende/sentiment_test.txt') as f:\n",
        "  sentiment_test = [int(line.rstrip('\\n')) for line in f]"
      ],
      "metadata": {
        "id": "r_M7g_8cFZAq"
      },
      "execution_count": 54,
      "outputs": []
    },
    {
      "cell_type": "markdown",
      "source": [
        "here we iterate through the images in train dataset in batch mode. for each batch, we first find the output of the image processing model-vgg 16. then we detect faces by the use of mobilenet module and pass first 6 detected faces to our face analysis module. number of detected faces followed by 6 faces analysis outputs and image processing output are concatenated into a vector of $1+6 \\times 3 + 1 \\times 3 = 22$ elements for each data to be used for our combine model which will be defined later."
      ],
      "metadata": {
        "id": "_g7CD5w0ps2W"
      }
    },
    {
      "cell_type": "code",
      "execution_count": null,
      "metadata": {
        "colab": {
          "base_uri": "https://localhost:8080/"
        },
        "id": "E-2DcBvjxGVB",
        "outputId": "78ccf1ba-a4e9-41f2-ec70-f475b85e1324"
      },
      "outputs": [
        {
          "output_type": "stream",
          "name": "stderr",
          "text": [
            "extracting faces... :   2%|▏         | 403/20240 [02:52<2:10:35,  2.53it/s]"
          ]
        }
      ],
      "source": [
        "sentiment_list = []\n",
        "inp=torch.zeros(len(data_train),7*3+1)\n",
        "counter = 0\n",
        "for i in tqdm(range(len(data_train)), total = len(data_train), desc=\"extracting faces... \"):\n",
        "  help=[]\n",
        "  text_file_chosen,sentiment_chosen,image = data_train[i] # loading file\n",
        "  imagep=image[:,:,[2,1,0]]\n",
        "  image1=torch.unsqueeze(transformation_vgg(imagep),0)\n",
        "  image1=image1.to(device)\n",
        "  with torch.no_grad():\n",
        "    image_out=model_vgg_trained(image1)\n",
        "  #image2=torch.unsqueeze(transformation_resnet(image),0)\n",
        "  #image2=image2.to(device)\n",
        "  face_all = detector_mobilenet.detect(image)\n",
        "  inp[i,0]=len(face_all)\n",
        "  c=0\n",
        "  for xmin,ymin,xmax,ymax,confidence in face_all:\n",
        "    if c>=6:\n",
        "      break;\n",
        "    if xmin < 0 :\n",
        "      xmin = 0\n",
        "    if ymin < 0:\n",
        "      ymin = 0\n",
        "    sentiment_list.append(sentiment_chosen)\n",
        "    temp = image[int(ymin): int(ymax),int(xmin):int(xmax),:]\n",
        "    temp = resize(temp,[int(100),int(75)], anti_aliasing=True)\n",
        "    temp = temp[:,:,[2,1,0]]\n",
        "    temp = torch.unsqueeze(transformation_resnet(temp),0)\n",
        "    temp = temp.float()\n",
        "    temp=temp.to(device)\n",
        "    with torch.no_grad():\n",
        "      face=model_resnet_trained(temp)\n",
        "    inp[i,c+1:c+4]=face\n",
        "    c+=1\n",
        "  inp[i,-4:-1]=image_out  \n",
        "  counter = counter + 1"
      ]
    },
    {
      "cell_type": "markdown",
      "source": [
        "here we save the output vectors in drive"
      ],
      "metadata": {
        "id": "8TIDTKEUqv7I"
      }
    },
    {
      "cell_type": "code",
      "execution_count": null,
      "metadata": {
        "id": "5ucnFCtKKQp8"
      },
      "outputs": [],
      "source": [
        "import pickle\n",
        "with open(\"/content/sample_data/inp\", \"wb\") as fp:   #Pickling\n",
        "  pickle.dump(inp, fp)\n",
        "with open(\"/content/sample_data/sentiment_list\", \"wb\") as fp:   #Pickling\n",
        "  pickle.dump(sentiment_list, fp)\n",
        "\n"
      ]
    },
    {
      "cell_type": "markdown",
      "source": [
        "here we load those vectors from the drive"
      ],
      "metadata": {
        "id": "fhz8RVoGq3d6"
      }
    },
    {
      "cell_type": "code",
      "source": [
        "import pickle\n",
        "with open(\"/content/gdrive/MyDrive/sentiment_list/sentiment_list\", \"rb\") as fp:   #Pickling\n",
        "  sentiment_list =  pickle.load(fp)\n",
        "with open(\"/content/gdrive/MyDrive/inp/inp\", \"rb\") as fp:   #Pickling\n",
        "  inp = pickle.load(fp)"
      ],
      "metadata": {
        "id": "JyrEu5vWUL9v"
      },
      "execution_count": 16,
      "outputs": []
    },
    {
      "cell_type": "markdown",
      "source": [
        "now we do the whole above things for validation and test data"
      ],
      "metadata": {
        "id": "tg0Rqwxfq8JU"
      }
    },
    {
      "cell_type": "code",
      "source": [
        "#for validation\n",
        "sentiment_list_v = []\n",
        "inp_v=torch.zeros(len(data_val),7*3+1)\n",
        "counter = 0\n",
        "for i in tqdm(range(len(data_val)), total = len(data_val), desc=\"extracting faces... \"):\n",
        "  text_file_chosen,sentiment_chosen,image = data_val[i] # loading file\n",
        "  imagep=image[:,:,[2,1,0]]\n",
        "  image1=torch.unsqueeze(transformation_vgg(imagep),0)\n",
        "  image1=image1.to(device)\n",
        "  with torch.no_grad():\n",
        "    image_out=model_vgg_trained(image1)\n",
        "  #image2=torch.unsqueeze(transformation_resnet(image),0)\n",
        "  #image2=image2.to(device)\n",
        "  face_all = detector_mobilenet.detect(image)\n",
        "  inp_v[i,0]=len(face_all)\n",
        "  c=0\n",
        "  for xmin,ymin,xmax,ymax,confidence in face_all:\n",
        "    if c>=6:\n",
        "      break;\n",
        "    if xmin < 0 :\n",
        "      xmin = 0\n",
        "    if ymin < 0:\n",
        "      ymin = 0\n",
        "    sentiment_list_v.append(sentiment_chosen)\n",
        "    temp = image[int(ymin): int(ymax),int(xmin):int(xmax),:]\n",
        "    temp = resize(temp,[int(100),int(75)], anti_aliasing=True)\n",
        "    temp = temp[:,:,[2,1,0]]\n",
        "    temp = torch.unsqueeze(transformation_resnet(temp),0)\n",
        "    temp = temp.float()\n",
        "    temp=temp.to(device)\n",
        "    with torch.no_grad():\n",
        "      face=model_resnet_trained(temp)\n",
        "    inp_v[i,c+1:c+4]=face\n",
        "    c+=1\n",
        "  inp_v[i,-4:-1]=image_out  \n",
        "  counter = counter + 1"
      ],
      "metadata": {
        "id": "M2aA03o2V3Fm",
        "colab": {
          "base_uri": "https://localhost:8080/"
        },
        "outputId": "270745ef-d41e-487b-e65a-4772dc128cec"
      },
      "execution_count": 20,
      "outputs": [
        {
          "output_type": "stream",
          "name": "stderr",
          "text": [
            "extracting faces... : 100%|██████████| 5063/5063 [1:09:47<00:00,  1.21it/s]\n"
          ]
        }
      ]
    },
    {
      "cell_type": "code",
      "source": [
        "import pickle\n",
        "with open(\"/content/gdrive/MyDrive/inp_v\", \"wb\") as fp:   #Pickling\n",
        "  pickle.dump(inp_v, fp)\n",
        "with open(\"/content/gdrive/MyDrive/sentiment_list_v\", \"wb\") as fp:   #Pickling\n",
        "  pickle.dump(sentiment_list_v, fp)\n"
      ],
      "metadata": {
        "id": "mQgaZ8M0Z5d-"
      },
      "execution_count": 21,
      "outputs": []
    },
    {
      "cell_type": "code",
      "source": [
        "with open(\"/content/gdrive/MyDrive/sentiment_list_v\", \"rb\") as fp:   #Pickling\n",
        "  sentiment_list_v =  pickle.load(fp)\n",
        "with open(\"/content/gdrive/MyDrive/inp_v\", \"rb\") as fp:   #Pickling\n",
        "  inp_v = pickle.load(fp)"
      ],
      "metadata": {
        "id": "0snPF-rwZ9UU"
      },
      "execution_count": 22,
      "outputs": []
    },
    {
      "cell_type": "code",
      "source": [
        "# for test\n",
        "sentiment_list_t = []\n",
        "inp_t=torch.zeros(len(data_test),7*3+1)\n",
        "counter = 0\n",
        "for i in tqdm(range(len(data_test)), total = len(data_test), desc=\"extracting faces... \"):\n",
        "  text_file_chosen,sentiment_chosen,image = data_test[i] # loading file\n",
        "  imagep=image[:,:,[2,1,0]]\n",
        "  image1=torch.unsqueeze(transformation_vgg(imagep),0)\n",
        "  image1=image1.to(device)\n",
        "  with torch.no_grad():\n",
        "    image_out=model_vgg_trained(image1)\n",
        "  #image2=torch.unsqueeze(transformation_resnet(image),0)\n",
        "  #image2=image2.to(device)\n",
        "  face_all = detector_mobilenet.detect(image)\n",
        "  inp_t[i,0]=len(face_all)\n",
        "  c=0\n",
        "  for xmin,ymin,xmax,ymax,confidence in face_all:\n",
        "    if c>=6:\n",
        "      break;\n",
        "    if xmin < 0 :\n",
        "      xmin = 0\n",
        "    if ymin < 0:\n",
        "      ymin = 0\n",
        "    sentiment_list_t.append(sentiment_chosen)\n",
        "    temp = image[int(ymin): int(ymax),int(xmin):int(xmax),:]\n",
        "    temp = resize(temp,[int(100),int(75)], anti_aliasing=True)\n",
        "    temp = temp[:,:,[2,1,0]]\n",
        "    temp = torch.unsqueeze(transformation_resnet(temp),0)\n",
        "    temp = temp.float()\n",
        "    temp=temp.to(device)\n",
        "    with torch.no_grad():\n",
        "      face=model_resnet_trained(temp)\n",
        "    inp_t[i,c+1:c+4]=face\n",
        "    c+=1\n",
        "  inp_t[i,-4:-1]=image_out  \n",
        "  counter = counter + 1"
      ],
      "metadata": {
        "id": "S78ORY--Z-8e",
        "colab": {
          "base_uri": "https://localhost:8080/"
        },
        "outputId": "b0c8e17e-f805-44e2-f753-e885480fd579"
      },
      "execution_count": 24,
      "outputs": [
        {
          "output_type": "stream",
          "name": "stderr",
          "text": [
            "extracting faces... : 100%|██████████| 5067/5067 [41:30<00:00,  2.03it/s]\n"
          ]
        }
      ]
    },
    {
      "cell_type": "code",
      "source": [
        "import pickle\n",
        "with open(\"/content/gdrive/MyDrive/inp_t\", \"wb\") as fp:   #Pickling\n",
        "  pickle.dump(inp_t, fp)\n",
        "with open(\"/content/gdrive/MyDrive/sentiment_list_t\", \"wb\") as fp:   #Pickling\n",
        "  pickle.dump(sentiment_list_t, fp)\n"
      ],
      "metadata": {
        "id": "suAh1q8Ga0H2"
      },
      "execution_count": 25,
      "outputs": []
    },
    {
      "cell_type": "code",
      "source": [
        "with open(\"/content/gdrive/MyDrive/sentiment_list_t\", \"rb\") as fp:   #Pickling\n",
        "  sentiment_list_t =  pickle.load(fp)\n",
        "with open(\"/content/gdrive/MyDrive/inp_t\", \"rb\") as fp:   #Pickling\n",
        "  inp_t = pickle.load(fp)"
      ],
      "metadata": {
        "id": "AanDCdf2a4zr"
      },
      "execution_count": 26,
      "outputs": []
    },
    {
      "cell_type": "markdown",
      "source": [
        "here we define a new dataset class for the saved vectors"
      ],
      "metadata": {
        "id": "UbMWR2vArHn6"
      }
    },
    {
      "cell_type": "code",
      "source": [
        "class comb_Dataset(Dataset):\n",
        "    def __init__(self,inp,labels):\n",
        "        self.inp = inp\n",
        "        self.lables = labels\n",
        "\n",
        "    def __len__(self):\n",
        "        return len(self.lables)\n",
        "\n",
        "    def __getitem__(self,idx):\n",
        "        if torch.is_tensor(idx):\n",
        "            idx = idx.tolist()\n",
        "        inp = self.inp[idx]\n",
        "        lables = self.lables[idx]\n",
        "        return inp,lables"
      ],
      "metadata": {
        "id": "lRB19c7Ra_e1"
      },
      "execution_count": 27,
      "outputs": []
    },
    {
      "cell_type": "markdown",
      "source": [
        "now we load the new dataset"
      ],
      "metadata": {
        "id": "XLzTMmtUrMiI"
      }
    },
    {
      "cell_type": "code",
      "source": [
        "batch_size = 64\n",
        "train_dataset= comb_Dataset(inp=inp,labels=sentiment_train)\n",
        "train_loader= DataLoader(train_dataset,batch_size=batch_size,shuffle = True)\n",
        "\n",
        "\n"
      ],
      "metadata": {
        "id": "Ch1CdeE1cRkH"
      },
      "execution_count": 55,
      "outputs": []
    },
    {
      "cell_type": "code",
      "source": [
        "print(len(train_dataset))"
      ],
      "metadata": {
        "colab": {
          "base_uri": "https://localhost:8080/"
        },
        "id": "hMYYEBDmD5E5",
        "outputId": "13a55994-4324-41f6-c7a6-2d512fafe9a1"
      },
      "execution_count": 56,
      "outputs": [
        {
          "output_type": "stream",
          "name": "stdout",
          "text": [
            "20240\n"
          ]
        }
      ]
    },
    {
      "cell_type": "code",
      "source": [
        "print(inp.shape)"
      ],
      "metadata": {
        "colab": {
          "base_uri": "https://localhost:8080/"
        },
        "id": "1u-C52hqEJWx",
        "outputId": "6a5b99eb-64dc-4c7b-a8b3-8538dbfc9d88"
      },
      "execution_count": 57,
      "outputs": [
        {
          "output_type": "stream",
          "name": "stdout",
          "text": [
            "torch.Size([20240, 22])\n"
          ]
        }
      ]
    },
    {
      "cell_type": "code",
      "source": [
        "val_dataset = comb_Dataset(inp=inp_v,  labels=sentiment_dev)\n",
        "val_loader=   DataLoader(val_dataset,batch_size=batch_size,shuffle = False)"
      ],
      "metadata": {
        "id": "lHGGrqp0PCpK"
      },
      "execution_count": 58,
      "outputs": []
    },
    {
      "cell_type": "code",
      "source": [
        "print(len(val_dataset))"
      ],
      "metadata": {
        "colab": {
          "base_uri": "https://localhost:8080/"
        },
        "id": "ZcZB01YSLcyl",
        "outputId": "744013dc-dfc5-4ffd-9dd7-82ce3b031a78"
      },
      "execution_count": 87,
      "outputs": [
        {
          "output_type": "stream",
          "name": "stdout",
          "text": [
            "5063\n"
          ]
        }
      ]
    },
    {
      "cell_type": "code",
      "source": [
        "test_dataset = comb_Dataset(inp=inp_t,  labels=sentiment_test)\n",
        "test_loader= DataLoader(test_dataset,batch_size=64,shuffle = False)"
      ],
      "metadata": {
        "id": "O28yaXbQPCes"
      },
      "execution_count": 140,
      "outputs": []
    },
    {
      "cell_type": "markdown",
      "source": [
        "now we define a simple MLP to classify the vectors into the associated sentiments"
      ],
      "metadata": {
        "id": "Jm_KR8d2rSOL"
      }
    },
    {
      "cell_type": "code",
      "source": [
        "import torch.nn as nn\n",
        "import torch.nn.functional as F\n",
        "\n",
        "\n",
        "class Net(nn.Module):\n",
        "  def __init__(self):\n",
        "    super(Net, self).__init__()\n",
        "    self.layers=nn.Sequential(\n",
        "        nn.Linear(3*(6+1)+1,64),\n",
        "        nn.ReLU(),\n",
        "        nn.Linear(64,16),\n",
        "        nn.ReLU(),\n",
        "        nn.Linear(16,32),\n",
        "        nn.ReLU(),\n",
        "        nn.Linear(32,8),\n",
        "        nn.ReLU(),\n",
        "        nn.Linear(8,64),\n",
        "        nn.ReLU(),\n",
        "        nn.Linear(64,16),\n",
        "        nn.ReLU(),\n",
        "        nn.Linear(16,32),\n",
        "        nn.ReLU(),\n",
        "        nn.Linear(32,8),\n",
        "        nn.ReLU(),\n",
        "        nn.Linear(8,64),\n",
        "        nn.ReLU(),\n",
        "        nn.Linear(64,16),\n",
        "        nn.ReLU(),\n",
        "        nn.Linear(16,32),\n",
        "        nn.ReLU(),\n",
        "        nn.Linear(32,8),\n",
        "        nn.ReLU(),\n",
        "        nn.Linear(8,3)\n",
        "        )\n",
        "  def forward(self, x):\n",
        "    return self.layers(x)\n",
        "\n",
        "\n",
        "net = Net()"
      ],
      "metadata": {
        "id": "Py-AZmnAdCnc"
      },
      "execution_count": 92,
      "outputs": []
    },
    {
      "cell_type": "markdown",
      "source": [
        "here is the training loop"
      ],
      "metadata": {
        "id": "ZaRYxIoQrn31"
      }
    },
    {
      "cell_type": "code",
      "source": [
        "def train_model_manual(model, criterion, optimizer,scheduler,val_beark,data_loader_train,data_loader_val,len_train,len_val, num_epochs=25):\n",
        "\n",
        "  train_acc = []\n",
        "  train_loss = []\n",
        "  test_acc = []\n",
        "  test_loss = []\n",
        "  since = time.time()\n",
        "\n",
        "  best_model_wts = copy.deepcopy(model.state_dict())\n",
        "  best_acc = 0.0\n",
        "  best_loss = 100000000000\n",
        "  counter_val_beark = 0\n",
        "  for epoch in range(num_epochs):\n",
        "    ### Training\n",
        "    model.train()\n",
        "    loss_train = 0\n",
        "    acc_train = 0\n",
        "    counter = 1\n",
        "    for batch,label in tqdm(data_loader_train, total=len(data_loader_train), desc=\"training... \"):\n",
        "      # 1. Forward pass\n",
        "      batch = batch.to(device)\n",
        "      label = label.to(device)\n",
        "      outputs = model(batch) # model outputs raw logits \n",
        "      _, preds = torch.max(outputs, 1)\n",
        "\n",
        "      # print(y_logits)\n",
        "      # 2. Calculate loss and accuracy\n",
        "      counter = counter + 1\n",
        "      loss = criterion(outputs, label)\n",
        "      acc_train += torch.sum(preds == label.data)\n",
        "      loss_train = loss_train + loss\n",
        "      # 3. Optimizer zero grad\n",
        "      optimizer.zero_grad()\n",
        "\n",
        "      # 4. Loss backwards\n",
        "      loss.backward()\n",
        "\n",
        "      # 5. Optimizer step\n",
        "      optimizer.step()\n",
        "    loss_train = loss_train/20240*100\n",
        "    acc_train = acc_train/20240*100\n",
        "    train_acc.append(acc_train)\n",
        "    train_loss.append(loss_train)\n",
        "    scheduler.step()\n",
        "    ### Testing\n",
        "    loss_test = 0\n",
        "    acc_test = 0\n",
        "    counter = 1\n",
        "    model.eval()\n",
        "    with torch.inference_mode():\n",
        "      for batch,label in tqdm(data_loader_val, total=len(data_loader_val), desc=\"Validating... \"):\n",
        "      # 1. Forward pass\n",
        "        batch = batch.to(device)\n",
        "        label = label.to(device)\n",
        "        output = model(batch) # model outputs raw logits \n",
        "        _, preds = torch.max(output, 1)\n",
        "        loss_test= criterion(output, label.data)\n",
        "        acc_test += torch.sum(preds == label.data)\n",
        "      loss_test = loss_test/5063*100\n",
        "      acc_test = acc_test/5063*100\n",
        "      test_loss.append(loss_test)\n",
        "      test_acc.append(acc_test)\n",
        "    if acc_test > best_acc:\n",
        "                best_acc = acc_test\n",
        "                best_model_wts = copy.deepcopy(model.state_dict())\n",
        "    if loss_test <= best_loss:\n",
        "                best_loss = loss_test\n",
        "                counter_val_beark = 0\n",
        "    if loss_test > best_loss:\n",
        "                counter_val_beark = counter_val_beark + 1\n",
        "                if (counter_val_beark > val_beark):\n",
        "                  print(f\"early stopping happend!\")\n",
        "                  break;\n",
        "\n",
        "    # Print out what's happening\n",
        "    if epoch % 1 == 0:\n",
        "      print(f\"Epoch: {epoch} | Loss: {loss_train:.5f}, Acc: {acc_train:.2f}% | Test Loss: {loss_test:.5f}, Test Acc: {acc_test:.2f}%\") \n",
        "  time_elapsed = time.time() - since\n",
        "  print(f'Training complete in {time_elapsed // 60:.0f}m {time_elapsed % 60:.0f}s')\n",
        "  print(f'Best val Acc: {best_acc:4f}')\n",
        "\n",
        "  # load best model weights\n",
        "  model.load_state_dict(best_model_wts)\n",
        "  return model,best_loss,best_acc"
      ],
      "metadata": {
        "id": "RdblgHpRdODA"
      },
      "execution_count": 90,
      "outputs": []
    },
    {
      "cell_type": "markdown",
      "source": [
        "now we train the model"
      ],
      "metadata": {
        "id": "Q31HACDsrsX0"
      }
    },
    {
      "cell_type": "code",
      "source": [
        "criterion = nn.CrossEntropyLoss()\n",
        "\n",
        "# Observe that only parameters of final layer are being optimized as\n",
        "# opposed to before.\n",
        "optimizer= optim.Adam(net.parameters(), lr=0.001)\n",
        "# Decay LR by a factor of 0.5 every 20 epochs\n",
        "exp_lr_scheduler = lr_scheduler.StepLR(optimizer, step_size=10, gamma=0.1)\n",
        "\n",
        "net = net.to(device)\n",
        "model_comb_trained,best_loss,best_acc = train_model_manual(net, criterion, optimizer,exp_lr_scheduler,20,train_loader,val_loader,len(train_loader),len(val_loader),num_epochs=100)"
      ],
      "metadata": {
        "id": "QSjMO6mVgA1X",
        "colab": {
          "base_uri": "https://localhost:8080/"
        },
        "outputId": "aee87683-f66d-4e0c-9890-ecc0e5db516d"
      },
      "execution_count": 93,
      "outputs": [
        {
          "output_type": "stream",
          "name": "stderr",
          "text": [
            "training... : 100%|██████████| 317/317 [00:01<00:00, 284.58it/s]\n",
            "Validating... : 100%|██████████| 80/80 [00:00<00:00, 1542.01it/s]\n"
          ]
        },
        {
          "output_type": "stream",
          "name": "stdout",
          "text": [
            "Epoch: 0 | Loss: 1.71323, Acc: 37.43% | Test Loss: 0.02111, Test Acc: 36.30%\n"
          ]
        },
        {
          "output_type": "stream",
          "name": "stderr",
          "text": [
            "training... : 100%|██████████| 317/317 [00:01<00:00, 282.81it/s]\n",
            "Validating... : 100%|██████████| 80/80 [00:00<00:00, 1502.24it/s]\n"
          ]
        },
        {
          "output_type": "stream",
          "name": "stdout",
          "text": [
            "Epoch: 1 | Loss: 1.70210, Acc: 39.45% | Test Loss: 0.02100, Test Acc: 37.35%\n"
          ]
        },
        {
          "output_type": "stream",
          "name": "stderr",
          "text": [
            "training... : 100%|██████████| 317/317 [00:01<00:00, 273.73it/s]\n",
            "Validating... : 100%|██████████| 80/80 [00:00<00:00, 1477.17it/s]\n"
          ]
        },
        {
          "output_type": "stream",
          "name": "stdout",
          "text": [
            "Epoch: 2 | Loss: 1.69942, Acc: 39.91% | Test Loss: 0.02079, Test Acc: 37.43%\n"
          ]
        },
        {
          "output_type": "stream",
          "name": "stderr",
          "text": [
            "training... : 100%|██████████| 317/317 [00:01<00:00, 269.95it/s]\n",
            "Validating... : 100%|██████████| 80/80 [00:00<00:00, 1468.13it/s]\n"
          ]
        },
        {
          "output_type": "stream",
          "name": "stdout",
          "text": [
            "Epoch: 3 | Loss: 1.69865, Acc: 39.89% | Test Loss: 0.02083, Test Acc: 37.82%\n"
          ]
        },
        {
          "output_type": "stream",
          "name": "stderr",
          "text": [
            "training... : 100%|██████████| 317/317 [00:01<00:00, 277.76it/s]\n",
            "Validating... : 100%|██████████| 80/80 [00:00<00:00, 1521.56it/s]\n"
          ]
        },
        {
          "output_type": "stream",
          "name": "stdout",
          "text": [
            "Epoch: 4 | Loss: 1.69768, Acc: 40.00% | Test Loss: 0.02099, Test Acc: 37.72%\n"
          ]
        },
        {
          "output_type": "stream",
          "name": "stderr",
          "text": [
            "training... : 100%|██████████| 317/317 [00:01<00:00, 284.55it/s]\n",
            "Validating... : 100%|██████████| 80/80 [00:00<00:00, 1479.64it/s]\n"
          ]
        },
        {
          "output_type": "stream",
          "name": "stdout",
          "text": [
            "Epoch: 5 | Loss: 1.69750, Acc: 39.77% | Test Loss: 0.02076, Test Acc: 37.33%\n"
          ]
        },
        {
          "output_type": "stream",
          "name": "stderr",
          "text": [
            "training... : 100%|██████████| 317/317 [00:01<00:00, 279.76it/s]\n",
            "Validating... : 100%|██████████| 80/80 [00:00<00:00, 1543.26it/s]\n"
          ]
        },
        {
          "output_type": "stream",
          "name": "stdout",
          "text": [
            "Epoch: 6 | Loss: 1.69744, Acc: 40.18% | Test Loss: 0.02097, Test Acc: 37.13%\n"
          ]
        },
        {
          "output_type": "stream",
          "name": "stderr",
          "text": [
            "training... : 100%|██████████| 317/317 [00:01<00:00, 284.41it/s]\n",
            "Validating... : 100%|██████████| 80/80 [00:00<00:00, 1559.13it/s]\n"
          ]
        },
        {
          "output_type": "stream",
          "name": "stdout",
          "text": [
            "Epoch: 7 | Loss: 1.69643, Acc: 40.25% | Test Loss: 0.02067, Test Acc: 37.21%\n"
          ]
        },
        {
          "output_type": "stream",
          "name": "stderr",
          "text": [
            "training... : 100%|██████████| 317/317 [00:01<00:00, 280.28it/s]\n",
            "Validating... : 100%|██████████| 80/80 [00:00<00:00, 1386.98it/s]\n"
          ]
        },
        {
          "output_type": "stream",
          "name": "stdout",
          "text": [
            "Epoch: 8 | Loss: 1.69683, Acc: 40.30% | Test Loss: 0.02074, Test Acc: 37.09%\n"
          ]
        },
        {
          "output_type": "stream",
          "name": "stderr",
          "text": [
            "training... : 100%|██████████| 317/317 [00:01<00:00, 280.59it/s]\n",
            "Validating... : 100%|██████████| 80/80 [00:00<00:00, 1496.04it/s]\n"
          ]
        },
        {
          "output_type": "stream",
          "name": "stdout",
          "text": [
            "Epoch: 9 | Loss: 1.69641, Acc: 40.37% | Test Loss: 0.02099, Test Acc: 37.74%\n"
          ]
        },
        {
          "output_type": "stream",
          "name": "stderr",
          "text": [
            "training... : 100%|██████████| 317/317 [00:01<00:00, 289.41it/s]\n",
            "Validating... : 100%|██████████| 80/80 [00:00<00:00, 1530.58it/s]\n"
          ]
        },
        {
          "output_type": "stream",
          "name": "stdout",
          "text": [
            "Epoch: 10 | Loss: 1.69437, Acc: 40.67% | Test Loss: 0.02095, Test Acc: 37.63%\n"
          ]
        },
        {
          "output_type": "stream",
          "name": "stderr",
          "text": [
            "training... : 100%|██████████| 317/317 [00:01<00:00, 284.79it/s]\n",
            "Validating... : 100%|██████████| 80/80 [00:00<00:00, 1605.34it/s]\n"
          ]
        },
        {
          "output_type": "stream",
          "name": "stdout",
          "text": [
            "Epoch: 11 | Loss: 1.69425, Acc: 40.71% | Test Loss: 0.02093, Test Acc: 37.59%\n"
          ]
        },
        {
          "output_type": "stream",
          "name": "stderr",
          "text": [
            "training... : 100%|██████████| 317/317 [00:01<00:00, 291.12it/s]\n",
            "Validating... : 100%|██████████| 80/80 [00:00<00:00, 1571.36it/s]\n"
          ]
        },
        {
          "output_type": "stream",
          "name": "stdout",
          "text": [
            "Epoch: 12 | Loss: 1.69363, Acc: 40.61% | Test Loss: 0.02097, Test Acc: 37.80%\n"
          ]
        },
        {
          "output_type": "stream",
          "name": "stderr",
          "text": [
            "training... : 100%|██████████| 317/317 [00:01<00:00, 270.21it/s]\n",
            "Validating... : 100%|██████████| 80/80 [00:00<00:00, 1517.68it/s]\n"
          ]
        },
        {
          "output_type": "stream",
          "name": "stdout",
          "text": [
            "Epoch: 13 | Loss: 1.69382, Acc: 40.72% | Test Loss: 0.02089, Test Acc: 37.57%\n"
          ]
        },
        {
          "output_type": "stream",
          "name": "stderr",
          "text": [
            "training... : 100%|██████████| 317/317 [00:01<00:00, 272.09it/s]\n",
            "Validating... : 100%|██████████| 80/80 [00:00<00:00, 1486.12it/s]\n"
          ]
        },
        {
          "output_type": "stream",
          "name": "stdout",
          "text": [
            "Epoch: 14 | Loss: 1.69360, Acc: 40.63% | Test Loss: 0.02085, Test Acc: 37.63%\n"
          ]
        },
        {
          "output_type": "stream",
          "name": "stderr",
          "text": [
            "training... : 100%|██████████| 317/317 [00:01<00:00, 283.93it/s]\n",
            "Validating... : 100%|██████████| 80/80 [00:00<00:00, 1523.93it/s]\n"
          ]
        },
        {
          "output_type": "stream",
          "name": "stdout",
          "text": [
            "Epoch: 15 | Loss: 1.69349, Acc: 40.60% | Test Loss: 0.02085, Test Acc: 37.47%\n"
          ]
        },
        {
          "output_type": "stream",
          "name": "stderr",
          "text": [
            "training... : 100%|██████████| 317/317 [00:01<00:00, 269.28it/s]\n",
            "Validating... : 100%|██████████| 80/80 [00:00<00:00, 1373.92it/s]\n"
          ]
        },
        {
          "output_type": "stream",
          "name": "stdout",
          "text": [
            "Epoch: 16 | Loss: 1.69372, Acc: 40.71% | Test Loss: 0.02084, Test Acc: 37.57%\n"
          ]
        },
        {
          "output_type": "stream",
          "name": "stderr",
          "text": [
            "training... : 100%|██████████| 317/317 [00:01<00:00, 275.06it/s]\n",
            "Validating... : 100%|██████████| 80/80 [00:00<00:00, 1472.11it/s]\n"
          ]
        },
        {
          "output_type": "stream",
          "name": "stdout",
          "text": [
            "Epoch: 17 | Loss: 1.69334, Acc: 40.66% | Test Loss: 0.02074, Test Acc: 37.31%\n"
          ]
        },
        {
          "output_type": "stream",
          "name": "stderr",
          "text": [
            "training... : 100%|██████████| 317/317 [00:01<00:00, 271.48it/s]\n",
            "Validating... : 100%|██████████| 80/80 [00:00<00:00, 1640.98it/s]\n"
          ]
        },
        {
          "output_type": "stream",
          "name": "stdout",
          "text": [
            "Epoch: 18 | Loss: 1.69347, Acc: 40.61% | Test Loss: 0.02074, Test Acc: 37.43%\n"
          ]
        },
        {
          "output_type": "stream",
          "name": "stderr",
          "text": [
            "training... : 100%|██████████| 317/317 [00:01<00:00, 284.77it/s]\n",
            "Validating... : 100%|██████████| 80/80 [00:00<00:00, 1320.92it/s]\n"
          ]
        },
        {
          "output_type": "stream",
          "name": "stdout",
          "text": [
            "Epoch: 19 | Loss: 1.69377, Acc: 40.65% | Test Loss: 0.02079, Test Acc: 37.59%\n"
          ]
        },
        {
          "output_type": "stream",
          "name": "stderr",
          "text": [
            "training... : 100%|██████████| 317/317 [00:01<00:00, 270.88it/s]\n",
            "Validating... : 100%|██████████| 80/80 [00:00<00:00, 1435.46it/s]\n"
          ]
        },
        {
          "output_type": "stream",
          "name": "stdout",
          "text": [
            "Epoch: 20 | Loss: 1.69327, Acc: 40.69% | Test Loss: 0.02078, Test Acc: 37.55%\n"
          ]
        },
        {
          "output_type": "stream",
          "name": "stderr",
          "text": [
            "training... : 100%|██████████| 317/317 [00:01<00:00, 279.51it/s]\n",
            "Validating... : 100%|██████████| 80/80 [00:00<00:00, 1548.36it/s]\n"
          ]
        },
        {
          "output_type": "stream",
          "name": "stdout",
          "text": [
            "Epoch: 21 | Loss: 1.69300, Acc: 40.71% | Test Loss: 0.02077, Test Acc: 37.63%\n"
          ]
        },
        {
          "output_type": "stream",
          "name": "stderr",
          "text": [
            "training... : 100%|██████████| 317/317 [00:01<00:00, 280.00it/s]\n",
            "Validating... : 100%|██████████| 80/80 [00:00<00:00, 1419.73it/s]\n"
          ]
        },
        {
          "output_type": "stream",
          "name": "stdout",
          "text": [
            "Epoch: 22 | Loss: 1.69297, Acc: 40.67% | Test Loss: 0.02077, Test Acc: 37.59%\n"
          ]
        },
        {
          "output_type": "stream",
          "name": "stderr",
          "text": [
            "training... : 100%|██████████| 317/317 [00:01<00:00, 278.66it/s]\n",
            "Validating... : 100%|██████████| 80/80 [00:00<00:00, 1504.43it/s]\n"
          ]
        },
        {
          "output_type": "stream",
          "name": "stdout",
          "text": [
            "Epoch: 23 | Loss: 1.69287, Acc: 40.66% | Test Loss: 0.02077, Test Acc: 37.59%\n"
          ]
        },
        {
          "output_type": "stream",
          "name": "stderr",
          "text": [
            "training... : 100%|██████████| 317/317 [00:01<00:00, 287.31it/s]\n",
            "Validating... : 100%|██████████| 80/80 [00:00<00:00, 1478.33it/s]\n"
          ]
        },
        {
          "output_type": "stream",
          "name": "stdout",
          "text": [
            "Epoch: 24 | Loss: 1.69306, Acc: 40.73% | Test Loss: 0.02077, Test Acc: 37.59%\n"
          ]
        },
        {
          "output_type": "stream",
          "name": "stderr",
          "text": [
            "training... : 100%|██████████| 317/317 [00:01<00:00, 269.94it/s]\n",
            "Validating... : 100%|██████████| 80/80 [00:00<00:00, 1538.58it/s]\n"
          ]
        },
        {
          "output_type": "stream",
          "name": "stdout",
          "text": [
            "Epoch: 25 | Loss: 1.69331, Acc: 40.68% | Test Loss: 0.02076, Test Acc: 37.57%\n"
          ]
        },
        {
          "output_type": "stream",
          "name": "stderr",
          "text": [
            "training... : 100%|██████████| 317/317 [00:01<00:00, 285.22it/s]\n",
            "Validating... : 100%|██████████| 80/80 [00:00<00:00, 1560.75it/s]\n"
          ]
        },
        {
          "output_type": "stream",
          "name": "stdout",
          "text": [
            "Epoch: 26 | Loss: 1.69294, Acc: 40.72% | Test Loss: 0.02075, Test Acc: 37.57%\n"
          ]
        },
        {
          "output_type": "stream",
          "name": "stderr",
          "text": [
            "training... : 100%|██████████| 317/317 [00:01<00:00, 282.09it/s]\n",
            "Validating... : 100%|██████████| 80/80 [00:00<00:00, 1456.95it/s]\n"
          ]
        },
        {
          "output_type": "stream",
          "name": "stdout",
          "text": [
            "Epoch: 27 | Loss: 1.69317, Acc: 40.72% | Test Loss: 0.02076, Test Acc: 37.57%\n"
          ]
        },
        {
          "output_type": "stream",
          "name": "stderr",
          "text": [
            "training... : 100%|██████████| 317/317 [00:01<00:00, 287.38it/s]\n",
            "Validating... : 100%|██████████| 80/80 [00:00<00:00, 1550.15it/s]\n"
          ]
        },
        {
          "output_type": "stream",
          "name": "stdout",
          "text": [
            "early stopping happend!\n",
            "Training complete in 0m 35s\n",
            "Best val Acc: 37.823425\n"
          ]
        }
      ]
    },
    {
      "cell_type": "markdown",
      "source": [
        "now we save the model"
      ],
      "metadata": {
        "id": "XA-a_6Vmrvez"
      }
    },
    {
      "cell_type": "code",
      "source": [
        "torch.save(model_comb_trained.state_dict(), '/content/gdrive/MyDrive/Phase_1_models/comb_trained')"
      ],
      "metadata": {
        "id": "qvscnP_BgBq7"
      },
      "execution_count": 95,
      "outputs": []
    },
    {
      "cell_type": "markdown",
      "source": [
        "now we test the outputs"
      ],
      "metadata": {
        "id": "RZ61y9yrryM2"
      }
    },
    {
      "cell_type": "code",
      "source": [
        "model_comb_trained.eval()\n",
        "acc_test = 0\n",
        "prob_train=torch.tensor([])\n",
        "label_train=torch.tensor([])\n",
        "with torch.inference_mode():\n",
        "  for batch,label in tqdm(train_loader, total=len(train_loader), desc=\"Testing... \"):\n",
        "  # 1. Forward pass\n",
        "    batch = batch.to(device)\n",
        "    label = label.to(device)\n",
        "    output = model_comb_trained(batch) # model outputs raw logits \n",
        "    _, preds = torch.max(output, 1)\n",
        "    prob_train=torch.cat((prob_train,preds))\n",
        "    label_train=torch.cat((label_train,preds))\n",
        "    acc_test += torch.sum(preds == label.data)\n",
        "print(\"\\n\")\n",
        "print(f'accuracy on test data = {acc_test/len(train_dataset)}')"
      ],
      "metadata": {
        "colab": {
          "base_uri": "https://localhost:8080/"
        },
        "id": "JV5X6LGlKW0j",
        "outputId": "59224529-b0fd-402e-a91f-3045ff6b3068"
      },
      "execution_count": 130,
      "outputs": [
        {
          "output_type": "stream",
          "name": "stderr",
          "text": [
            "Testing... : 100%|██████████| 317/317 [00:00<00:00, 1555.58it/s]"
          ]
        },
        {
          "output_type": "stream",
          "name": "stdout",
          "text": [
            "\n",
            "\n",
            "accuracy on test data = 0.4025691747665405\n"
          ]
        },
        {
          "output_type": "stream",
          "name": "stderr",
          "text": [
            "\n"
          ]
        }
      ]
    },
    {
      "cell_type": "code",
      "source": [
        "model_comb_trained.eval()\n",
        "acc_test = 0\n",
        "prob_val=torch.tensor([])\n",
        "label_val=torch.tensor([])\n",
        "with torch.inference_mode():\n",
        "  for batch,label in tqdm(val_loader, total=len(val_loader), desc=\"Testing... \"):\n",
        "  # 1. Forward pass\n",
        "    batch = batch.to(device)\n",
        "    label = label.to(device)\n",
        "    output = model_comb_trained(batch) # model outputs raw logits \n",
        "    _, preds = torch.max(output, 1)\n",
        "    prob_val=torch.cat((prob_val,preds))\n",
        "    label_val=torch.cat((label_val,preds))\n",
        "    acc_test += torch.sum(preds == label.data)\n",
        "print(\"\\n\")\n",
        "print(f'accuracy on test data = {acc_test/len(val_dataset)}')"
      ],
      "metadata": {
        "colab": {
          "base_uri": "https://localhost:8080/"
        },
        "id": "tOkXDoSEKf_j",
        "outputId": "267208b7-2dcd-464c-b5ed-2d6563537755"
      },
      "execution_count": 132,
      "outputs": [
        {
          "output_type": "stream",
          "name": "stderr",
          "text": [
            "Testing... : 100%|██████████| 80/80 [00:00<00:00, 1450.50it/s]"
          ]
        },
        {
          "output_type": "stream",
          "name": "stdout",
          "text": [
            "\n",
            "\n",
            "accuracy on test data = 0.37823423743247986\n"
          ]
        },
        {
          "output_type": "stream",
          "name": "stderr",
          "text": [
            "\n"
          ]
        }
      ]
    },
    {
      "cell_type": "code",
      "source": [
        "model_comb_trained.eval()\n",
        "acc_test = 0\n",
        "prob_test=torch.tensor([])\n",
        "label_test=torch.tensor([])\n",
        "with torch.inference_mode():\n",
        "  for batch,label in tqdm(test_loader, total=len(test_loader), desc=\"Testing... \"):\n",
        "  # 1. Forward pass\n",
        "    batch = batch.to(device)\n",
        "    label = label.to(device)\n",
        "    output = model_comb_trained(batch) # model outputs raw logits \n",
        "    _, preds = torch.max(output, 1)\n",
        "    prob_test=torch.cat((prob_test,preds))\n",
        "    label_test=torch.cat((label_test,preds))\n",
        "    acc_test += torch.sum(preds == label.data)\n",
        "print(\"\\n\")\n",
        "print(f'accuracy on test data = {acc_test/len(test_dataset)}')"
      ],
      "metadata": {
        "id": "0GbAHqDXgL5i",
        "colab": {
          "base_uri": "https://localhost:8080/"
        },
        "outputId": "d96aff8c-197a-43e8-e640-45f4dfc4f0ac"
      },
      "execution_count": 135,
      "outputs": [
        {
          "output_type": "stream",
          "name": "stderr",
          "text": [
            "Testing... : 100%|██████████| 80/80 [00:00<00:00, 1613.36it/s]"
          ]
        },
        {
          "output_type": "stream",
          "name": "stdout",
          "text": [
            "\n",
            "\n",
            "accuracy on test data = 0.4012235999107361\n"
          ]
        },
        {
          "output_type": "stream",
          "name": "stderr",
          "text": [
            "\n"
          ]
        }
      ]
    },
    {
      "cell_type": "markdown",
      "source": [
        "now we can see that the combination of the two previous models helped all train, validation and test results improved to a greater amount. now we have a test accuracy of 40%"
      ],
      "metadata": {
        "id": "gySZEnMNr14b"
      }
    },
    {
      "cell_type": "markdown",
      "source": [
        "here we try to provide confusion matrix for each data"
      ],
      "metadata": {
        "id": "mlDrSv2ssGhO"
      }
    },
    {
      "cell_type": "code",
      "source": [
        "def softmax_manual(X,t):\n",
        "  \"\"\"\n",
        "  manual function for implementing softmax\n",
        "  input:\n",
        "    X:input, each coloumn is seperate data\n",
        "    t:temperature value\n",
        "  output:\n",
        "    y\n",
        "  \"\"\"\n",
        "  \n",
        "  _,m = X.size()\n",
        "  m = int(m)\n",
        "  x_max = (torch.max(X,axis = 1)).values\n",
        "  X = (X.T - x_max).T #adding value doesn't have effect on softmax output but it helpd to stablaize our values!(because it is ways easier to comput exp(-145) compare to exp(145)! one is near zero and one is very big number that we can't store in memory)\n",
        "  exp_X = torch.exp(X/t)\n",
        "  exp_X_sum = torch.sum(exp_X,axis = 1)\n",
        "  exp_X_sum_rep = exp_X_sum.repeat(m,1).T\n",
        "  y = exp_X/exp_X_sum_rep\n",
        "  return y"
      ],
      "metadata": {
        "id": "NVNF1ayClodf"
      },
      "execution_count": 137,
      "outputs": []
    },
    {
      "cell_type": "code",
      "source": [
        "print(len(test_dataset))"
      ],
      "metadata": {
        "colab": {
          "base_uri": "https://localhost:8080/"
        },
        "id": "D2-qEyIPmLEK",
        "outputId": "ad2c8ad0-df89-4e54-86fd-ac09a63a415e"
      },
      "execution_count": 143,
      "outputs": [
        {
          "output_type": "stream",
          "name": "stdout",
          "text": [
            "5067\n"
          ]
        }
      ]
    },
    {
      "cell_type": "code",
      "source": [
        "model_comb_trained.eval()\n",
        "out_logits_train = np.zeros((len(train_dataset),3))\n",
        "out_logits_val = np.zeros((len(val_dataset),3))\n",
        "out_logits_test = np.zeros((len(test_dataset),3))\n",
        "counter = 0\n",
        "for data,_ in train_loader:\n",
        "  data= data.to(device)\n",
        "  out_l = model_comb_trained(data)\n",
        "  out = softmax_manual(out_l,0.1)\n",
        "  out = out.to(device)\n",
        "  out_logits_train[counter:counter +batch_size ] = out.detach().numpy()\n",
        "  counter = counter + batch_size\n",
        "counter = 0\n",
        "for data,_ in val_loader:\n",
        "  data = data.to(device)\n",
        "  out_l = model_comb_trained(data)\n",
        "  out = softmax_manual(out_l,0.1)\n",
        "  out = out.to(device)\n",
        "  out_logits_val[counter:counter +batch_size ] = out.detach().numpy()\n",
        "  counter = counter + batch_size\n",
        "counter = 0\n",
        "for data,_ in test_loader:\n",
        "  data = data.to(device)\n",
        "  out_l = model_comb_trained(data)\n",
        "  out = softmax_manual(out_l,0.1)\n",
        "  out = out.to(device)\n",
        "  out_logits_test[counter:counter +batch_size ] = out.detach().numpy()\n",
        "  counter = counter + batch_size\n"
      ],
      "metadata": {
        "id": "WS8gizvxlsln"
      },
      "execution_count": 160,
      "outputs": []
    },
    {
      "cell_type": "code",
      "source": [
        "predict_train = np.argmax(out_logits_train,axis = 1)\n",
        "predict_val = np.argmax(out_logits_val,axis = 1)\n",
        "predict_test = np.argmax(out_logits_test,axis = 1)"
      ],
      "metadata": {
        "id": "EYpsA-sKmosq"
      },
      "execution_count": 161,
      "outputs": []
    },
    {
      "cell_type": "code",
      "source": [
        "from sklearn import metrics\n",
        "confusion_matrix = metrics.confusion_matrix(sentiment_train, predict_train)\n",
        "cm_display = metrics.ConfusionMatrixDisplay(confusion_matrix = confusion_matrix, display_labels = ['0', '1','2'])\n",
        "cm_display.plot()\n",
        "plt.title('confusion matrix for train data')\n",
        "\n",
        "plt.show()"
      ],
      "metadata": {
        "colab": {
          "base_uri": "https://localhost:8080/",
          "height": 295
        },
        "id": "nseKmcwAZ9Wf",
        "outputId": "53c4a38a-a4ff-4f59-c211-093aebf4a28a"
      },
      "execution_count": 156,
      "outputs": [
        {
          "output_type": "display_data",
          "data": {
            "text/plain": [
              "<Figure size 432x288 with 2 Axes>"
            ],
            "image/png": "[encoded data removed]"
          },
          "metadata": {
            "needs_background": "light"
          }
        }
      ]
    },
    {
      "cell_type": "code",
      "source": [
        "from sklearn import metrics\n",
        "confusion_matrix = metrics.confusion_matrix(sentiment_dev, predict_val)\n",
        "cm_display = metrics.ConfusionMatrixDisplay(confusion_matrix = confusion_matrix, display_labels = ['0', '1','2'])\n",
        "cm_display.plot()\n",
        "plt.title('confusion matrix for validation data')\n",
        "\n",
        "plt.show()\n"
      ],
      "metadata": {
        "colab": {
          "base_uri": "https://localhost:8080/",
          "height": 295
        },
        "id": "L6lICdpyaBG2",
        "outputId": "680477f6-74ba-4110-a33d-83b2a4940adf"
      },
      "execution_count": 159,
      "outputs": [
        {
          "output_type": "display_data",
          "data": {
            "text/plain": [
              "<Figure size 432x288 with 2 Axes>"
            ],
            "image/png": "[encoded data removed]"
          },
          "metadata": {
            "needs_background": "light"
          }
        }
      ]
    },
    {
      "cell_type": "code",
      "source": [
        "from sklearn import metrics\n",
        "confusion_matrix = metrics.confusion_matrix(sentiment_test, predict_test)\n",
        "cm_display = metrics.ConfusionMatrixDisplay(confusion_matrix = confusion_matrix, display_labels = ['0', '1','2'])\n",
        "cm_display.plot()\n",
        "plt.title('confusion matrix for validation data')\n",
        "\n",
        "plt.show()"
      ],
      "metadata": {
        "colab": {
          "base_uri": "https://localhost:8080/",
          "height": 295
        },
        "id": "au2dwRXSjG-Z",
        "outputId": "e5abfcf0-a7ed-4cca-af73-a2cb2f5a9335"
      },
      "execution_count": 162,
      "outputs": [
        {
          "output_type": "display_data",
          "data": {
            "text/plain": [
              "<Figure size 432x288 with 2 Axes>"
            ],
            "image/png": "[encoded data removed]"
          },
          "metadata": {
            "needs_background": "light"
          }
        }
      ]
    },
    {
      "cell_type": "markdown",
      "source": [
        "overall the results are better in combined mode than each of the single models."
      ],
      "metadata": {
        "id": "mUriHN_BsPBE"
      }
    }
  ],
  "metadata": {
    "colab": {
      "provenance": []
    },
    "gpuClass": "standard",
    "kernelspec": {
      "display_name": "Python 3",
      "name": "python3"
    },
    "language_info": {
      "name": "python"
    },
    "widgets": {
      "application/vnd.jupyter.widget-state+json": {
        "cbc304ededc24f948a096329873c93ca": {
          "model_module": "@jupyter-widgets/controls",
          "model_name": "HBoxModel",
          "model_module_version": "1.5.0",
          "state": {
            "_dom_classes": [],
            "_model_module": "@jupyter-widgets/controls",
            "_model_module_version": "1.5.0",
            "_model_name": "HBoxModel",
            "_view_count": null,
            "_view_module": "@jupyter-widgets/controls",
            "_view_module_version": "1.5.0",
            "_view_name": "HBoxView",
            "box_style": "",
            "children": [
              "IPY_MODEL_97e19304a38943b88285c3de64b79f1e",
              "IPY_MODEL_5948eb42e4254cd3baeab93cfe033954",
              "IPY_MODEL_1911737ed9934f6780fe07d35c1105e4"
            ],
            "layout": "IPY_MODEL_d208d5e04ad84bf5bbe73eadd8191341"
          }
        },
        "97e19304a38943b88285c3de64b79f1e": {
          "model_module": "@jupyter-widgets/controls",
          "model_name": "HTMLModel",
          "model_module_version": "1.5.0",
          "state": {
            "_dom_classes": [],
            "_model_module": "@jupyter-widgets/controls",
            "_model_module_version": "1.5.0",
            "_model_name": "HTMLModel",
            "_view_count": null,
            "_view_module": "@jupyter-widgets/controls",
            "_view_module_version": "1.5.0",
            "_view_name": "HTMLView",
            "description": "",
            "description_tooltip": null,
            "layout": "IPY_MODEL_26ac259411b94faeb938608902fd47cd",
            "placeholder": "​",
            "style": "IPY_MODEL_18d1e32b481b46879788f946a251c271",
            "value": "100%"
          }
        },
        "5948eb42e4254cd3baeab93cfe033954": {
          "model_module": "@jupyter-widgets/controls",
          "model_name": "FloatProgressModel",
          "model_module_version": "1.5.0",
          "state": {
            "_dom_classes": [],
            "_model_module": "@jupyter-widgets/controls",
            "_model_module_version": "1.5.0",
            "_model_name": "FloatProgressModel",
            "_view_count": null,
            "_view_module": "@jupyter-widgets/controls",
            "_view_module_version": "1.5.0",
            "_view_name": "ProgressView",
            "bar_style": "success",
            "description": "",
            "description_tooltip": null,
            "layout": "IPY_MODEL_2f2afa822e954efd90c6f3a7f991937a",
            "max": 553433881,
            "min": 0,
            "orientation": "horizontal",
            "style": "IPY_MODEL_1feeadf5a1b54c409eaa2d95fb64add9",
            "value": 553433881
          }
        },
        "1911737ed9934f6780fe07d35c1105e4": {
          "model_module": "@jupyter-widgets/controls",
          "model_name": "HTMLModel",
          "model_module_version": "1.5.0",
          "state": {
            "_dom_classes": [],
            "_model_module": "@jupyter-widgets/controls",
            "_model_module_version": "1.5.0",
            "_model_name": "HTMLModel",
            "_view_count": null,
            "_view_module": "@jupyter-widgets/controls",
            "_view_module_version": "1.5.0",
            "_view_name": "HTMLView",
            "description": "",
            "description_tooltip": null,
            "layout": "IPY_MODEL_7a1247bec64a41ddbcd96a6ebe6fc3ef",
            "placeholder": "​",
            "style": "IPY_MODEL_ca05efafcac044b78a24cd7e68862f93",
            "value": " 528M/528M [00:02&lt;00:00, 260MB/s]"
          }
        },
        "d208d5e04ad84bf5bbe73eadd8191341": {
          "model_module": "@jupyter-widgets/base",
          "model_name": "LayoutModel",
          "model_module_version": "1.2.0",
          "state": {
            "_model_module": "@jupyter-widgets/base",
            "_model_module_version": "1.2.0",
            "_model_name": "LayoutModel",
            "_view_count": null,
            "_view_module": "@jupyter-widgets/base",
            "_view_module_version": "1.2.0",
            "_view_name": "LayoutView",
            "align_content": null,
            "align_items": null,
            "align_self": null,
            "border": null,
            "bottom": null,
            "display": null,
            "flex": null,
            "flex_flow": null,
            "grid_area": null,
            "grid_auto_columns": null,
            "grid_auto_flow": null,
            "grid_auto_rows": null,
            "grid_column": null,
            "grid_gap": null,
            "grid_row": null,
            "grid_template_areas": null,
            "grid_template_columns": null,
            "grid_template_rows": null,
            "height": null,
            "justify_content": null,
            "justify_items": null,
            "left": null,
            "margin": null,
            "max_height": null,
            "max_width": null,
            "min_height": null,
            "min_width": null,
            "object_fit": null,
            "object_position": null,
            "order": null,
            "overflow": null,
            "overflow_x": null,
            "overflow_y": null,
            "padding": null,
            "right": null,
            "top": null,
            "visibility": null,
            "width": null
          }
        },
        "26ac259411b94faeb938608902fd47cd": {
          "model_module": "@jupyter-widgets/base",
          "model_name": "LayoutModel",
          "model_module_version": "1.2.0",
          "state": {
            "_model_module": "@jupyter-widgets/base",
            "_model_module_version": "1.2.0",
            "_model_name": "LayoutModel",
            "_view_count": null,
            "_view_module": "@jupyter-widgets/base",
            "_view_module_version": "1.2.0",
            "_view_name": "LayoutView",
            "align_content": null,
            "align_items": null,
            "align_self": null,
            "border": null,
            "bottom": null,
            "display": null,
            "flex": null,
            "flex_flow": null,
            "grid_area": null,
            "grid_auto_columns": null,
            "grid_auto_flow": null,
            "grid_auto_rows": null,
            "grid_column": null,
            "grid_gap": null,
            "grid_row": null,
            "grid_template_areas": null,
            "grid_template_columns": null,
            "grid_template_rows": null,
            "height": null,
            "justify_content": null,
            "justify_items": null,
            "left": null,
            "margin": null,
            "max_height": null,
            "max_width": null,
            "min_height": null,
            "min_width": null,
            "object_fit": null,
            "object_position": null,
            "order": null,
            "overflow": null,
            "overflow_x": null,
            "overflow_y": null,
            "padding": null,
            "right": null,
            "top": null,
            "visibility": null,
            "width": null
          }
        },
        "18d1e32b481b46879788f946a251c271": {
          "model_module": "@jupyter-widgets/controls",
          "model_name": "DescriptionStyleModel",
          "model_module_version": "1.5.0",
          "state": {
            "_model_module": "@jupyter-widgets/controls",
            "_model_module_version": "1.5.0",
            "_model_name": "DescriptionStyleModel",
            "_view_count": null,
            "_view_module": "@jupyter-widgets/base",
            "_view_module_version": "1.2.0",
            "_view_name": "StyleView",
            "description_width": ""
          }
        },
        "2f2afa822e954efd90c6f3a7f991937a": {
          "model_module": "@jupyter-widgets/base",
          "model_name": "LayoutModel",
          "model_module_version": "1.2.0",
          "state": {
            "_model_module": "@jupyter-widgets/base",
            "_model_module_version": "1.2.0",
            "_model_name": "LayoutModel",
            "_view_count": null,
            "_view_module": "@jupyter-widgets/base",
            "_view_module_version": "1.2.0",
            "_view_name": "LayoutView",
            "align_content": null,
            "align_items": null,
            "align_self": null,
            "border": null,
            "bottom": null,
            "display": null,
            "flex": null,
            "flex_flow": null,
            "grid_area": null,
            "grid_auto_columns": null,
            "grid_auto_flow": null,
            "grid_auto_rows": null,
            "grid_column": null,
            "grid_gap": null,
            "grid_row": null,
            "grid_template_areas": null,
            "grid_template_columns": null,
            "grid_template_rows": null,
            "height": null,
            "justify_content": null,
            "justify_items": null,
            "left": null,
            "margin": null,
            "max_height": null,
            "max_width": null,
            "min_height": null,
            "min_width": null,
            "object_fit": null,
            "object_position": null,
            "order": null,
            "overflow": null,
            "overflow_x": null,
            "overflow_y": null,
            "padding": null,
            "right": null,
            "top": null,
            "visibility": null,
            "width": null
          }
        },
        "1feeadf5a1b54c409eaa2d95fb64add9": {
          "model_module": "@jupyter-widgets/controls",
          "model_name": "ProgressStyleModel",
          "model_module_version": "1.5.0",
          "state": {
            "_model_module": "@jupyter-widgets/controls",
            "_model_module_version": "1.5.0",
            "_model_name": "ProgressStyleModel",
            "_view_count": null,
            "_view_module": "@jupyter-widgets/base",
            "_view_module_version": "1.2.0",
            "_view_name": "StyleView",
            "bar_color": null,
            "description_width": ""
          }
        },
        "7a1247bec64a41ddbcd96a6ebe6fc3ef": {
          "model_module": "@jupyter-widgets/base",
          "model_name": "LayoutModel",
          "model_module_version": "1.2.0",
          "state": {
            "_model_module": "@jupyter-widgets/base",
            "_model_module_version": "1.2.0",
            "_model_name": "LayoutModel",
            "_view_count": null,
            "_view_module": "@jupyter-widgets/base",
            "_view_module_version": "1.2.0",
            "_view_name": "LayoutView",
            "align_content": null,
            "align_items": null,
            "align_self": null,
            "border": null,
            "bottom": null,
            "display": null,
            "flex": null,
            "flex_flow": null,
            "grid_area": null,
            "grid_auto_columns": null,
            "grid_auto_flow": null,
            "grid_auto_rows": null,
            "grid_column": null,
            "grid_gap": null,
            "grid_row": null,
            "grid_template_areas": null,
            "grid_template_columns": null,
            "grid_template_rows": null,
            "height": null,
            "justify_content": null,
            "justify_items": null,
            "left": null,
            "margin": null,
            "max_height": null,
            "max_width": null,
            "min_height": null,
            "min_width": null,
            "object_fit": null,
            "object_position": null,
            "order": null,
            "overflow": null,
            "overflow_x": null,
            "overflow_y": null,
            "padding": null,
            "right": null,
            "top": null,
            "visibility": null,
            "width": null
          }
        },
        "ca05efafcac044b78a24cd7e68862f93": {
          "model_module": "@jupyter-widgets/controls",
          "model_name": "DescriptionStyleModel",
          "model_module_version": "1.5.0",
          "state": {
            "_model_module": "@jupyter-widgets/controls",
            "_model_module_version": "1.5.0",
            "_model_name": "DescriptionStyleModel",
            "_view_count": null,
            "_view_module": "@jupyter-widgets/base",
            "_view_module_version": "1.2.0",
            "_view_name": "StyleView",
            "description_width": ""
          }
        },
        "ad6b896fe1b24d98bc8e1c7531e46882": {
          "model_module": "@jupyter-widgets/controls",
          "model_name": "HBoxModel",
          "model_module_version": "1.5.0",
          "state": {
            "_dom_classes": [],
            "_model_module": "@jupyter-widgets/controls",
            "_model_module_version": "1.5.0",
            "_model_name": "HBoxModel",
            "_view_count": null,
            "_view_module": "@jupyter-widgets/controls",
            "_view_module_version": "1.5.0",
            "_view_name": "HBoxView",
            "box_style": "",
            "children": [
              "IPY_MODEL_849ebfe1e5844bf88d5e35123296126d",
              "IPY_MODEL_885a6216816341f2b8d201161e526652",
              "IPY_MODEL_985aca2907484a4faa6f9755b2a91d2a"
            ],
            "layout": "IPY_MODEL_5bab55662b0e48d38652522e0fbdbead"
          }
        },
        "849ebfe1e5844bf88d5e35123296126d": {
          "model_module": "@jupyter-widgets/controls",
          "model_name": "HTMLModel",
          "model_module_version": "1.5.0",
          "state": {
            "_dom_classes": [],
            "_model_module": "@jupyter-widgets/controls",
            "_model_module_version": "1.5.0",
            "_model_name": "HTMLModel",
            "_view_count": null,
            "_view_module": "@jupyter-widgets/controls",
            "_view_module_version": "1.5.0",
            "_view_name": "HTMLView",
            "description": "",
            "description_tooltip": null,
            "layout": "IPY_MODEL_2fb15503dadd4dbfb9f6c20b2763f5d6",
            "placeholder": "​",
            "style": "IPY_MODEL_d19ac633783641e98dee566bb32f2608",
            "value": "100%"
          }
        },
        "885a6216816341f2b8d201161e526652": {
          "model_module": "@jupyter-widgets/controls",
          "model_name": "FloatProgressModel",
          "model_module_version": "1.5.0",
          "state": {
            "_dom_classes": [],
            "_model_module": "@jupyter-widgets/controls",
            "_model_module_version": "1.5.0",
            "_model_name": "FloatProgressModel",
            "_view_count": null,
            "_view_module": "@jupyter-widgets/controls",
            "_view_module_version": "1.5.0",
            "_view_name": "ProgressView",
            "bar_style": "success",
            "description": "",
            "description_tooltip": null,
            "layout": "IPY_MODEL_d437e00e204f4bb188bf61284008de56",
            "max": 102530333,
            "min": 0,
            "orientation": "horizontal",
            "style": "IPY_MODEL_ad5fefe0ff674b328f6fbbee0b9389dc",
            "value": 102530333
          }
        },
        "985aca2907484a4faa6f9755b2a91d2a": {
          "model_module": "@jupyter-widgets/controls",
          "model_name": "HTMLModel",
          "model_module_version": "1.5.0",
          "state": {
            "_dom_classes": [],
            "_model_module": "@jupyter-widgets/controls",
            "_model_module_version": "1.5.0",
            "_model_name": "HTMLModel",
            "_view_count": null,
            "_view_module": "@jupyter-widgets/controls",
            "_view_module_version": "1.5.0",
            "_view_name": "HTMLView",
            "description": "",
            "description_tooltip": null,
            "layout": "IPY_MODEL_9c03eaa59f7f4961a69980ec05c55787",
            "placeholder": "​",
            "style": "IPY_MODEL_9e31e3432d4545188cc2c5723c8107c6",
            "value": " 97.8M/97.8M [00:01&lt;00:00, 94.6MB/s]"
          }
        },
        "5bab55662b0e48d38652522e0fbdbead": {
          "model_module": "@jupyter-widgets/base",
          "model_name": "LayoutModel",
          "model_module_version": "1.2.0",
          "state": {
            "_model_module": "@jupyter-widgets/base",
            "_model_module_version": "1.2.0",
            "_model_name": "LayoutModel",
            "_view_count": null,
            "_view_module": "@jupyter-widgets/base",
            "_view_module_version": "1.2.0",
            "_view_name": "LayoutView",
            "align_content": null,
            "align_items": null,
            "align_self": null,
            "border": null,
            "bottom": null,
            "display": null,
            "flex": null,
            "flex_flow": null,
            "grid_area": null,
            "grid_auto_columns": null,
            "grid_auto_flow": null,
            "grid_auto_rows": null,
            "grid_column": null,
            "grid_gap": null,
            "grid_row": null,
            "grid_template_areas": null,
            "grid_template_columns": null,
            "grid_template_rows": null,
            "height": null,
            "justify_content": null,
            "justify_items": null,
            "left": null,
            "margin": null,
            "max_height": null,
            "max_width": null,
            "min_height": null,
            "min_width": null,
            "object_fit": null,
            "object_position": null,
            "order": null,
            "overflow": null,
            "overflow_x": null,
            "overflow_y": null,
            "padding": null,
            "right": null,
            "top": null,
            "visibility": null,
            "width": null
          }
        },
        "2fb15503dadd4dbfb9f6c20b2763f5d6": {
          "model_module": "@jupyter-widgets/base",
          "model_name": "LayoutModel",
          "model_module_version": "1.2.0",
          "state": {
            "_model_module": "@jupyter-widgets/base",
            "_model_module_version": "1.2.0",
            "_model_name": "LayoutModel",
            "_view_count": null,
            "_view_module": "@jupyter-widgets/base",
            "_view_module_version": "1.2.0",
            "_view_name": "LayoutView",
            "align_content": null,
            "align_items": null,
            "align_self": null,
            "border": null,
            "bottom": null,
            "display": null,
            "flex": null,
            "flex_flow": null,
            "grid_area": null,
            "grid_auto_columns": null,
            "grid_auto_flow": null,
            "grid_auto_rows": null,
            "grid_column": null,
            "grid_gap": null,
            "grid_row": null,
            "grid_template_areas": null,
            "grid_template_columns": null,
            "grid_template_rows": null,
            "height": null,
            "justify_content": null,
            "justify_items": null,
            "left": null,
            "margin": null,
            "max_height": null,
            "max_width": null,
            "min_height": null,
            "min_width": null,
            "object_fit": null,
            "object_position": null,
            "order": null,
            "overflow": null,
            "overflow_x": null,
            "overflow_y": null,
            "padding": null,
            "right": null,
            "top": null,
            "visibility": null,
            "width": null
          }
        },
        "d19ac633783641e98dee566bb32f2608": {
          "model_module": "@jupyter-widgets/controls",
          "model_name": "DescriptionStyleModel",
          "model_module_version": "1.5.0",
          "state": {
            "_model_module": "@jupyter-widgets/controls",
            "_model_module_version": "1.5.0",
            "_model_name": "DescriptionStyleModel",
            "_view_count": null,
            "_view_module": "@jupyter-widgets/base",
            "_view_module_version": "1.2.0",
            "_view_name": "StyleView",
            "description_width": ""
          }
        },
        "d437e00e204f4bb188bf61284008de56": {
          "model_module": "@jupyter-widgets/base",
          "model_name": "LayoutModel",
          "model_module_version": "1.2.0",
          "state": {
            "_model_module": "@jupyter-widgets/base",
            "_model_module_version": "1.2.0",
            "_model_name": "LayoutModel",
            "_view_count": null,
            "_view_module": "@jupyter-widgets/base",
            "_view_module_version": "1.2.0",
            "_view_name": "LayoutView",
            "align_content": null,
            "align_items": null,
            "align_self": null,
            "border": null,
            "bottom": null,
            "display": null,
            "flex": null,
            "flex_flow": null,
            "grid_area": null,
            "grid_auto_columns": null,
            "grid_auto_flow": null,
            "grid_auto_rows": null,
            "grid_column": null,
            "grid_gap": null,
            "grid_row": null,
            "grid_template_areas": null,
            "grid_template_columns": null,
            "grid_template_rows": null,
            "height": null,
            "justify_content": null,
            "justify_items": null,
            "left": null,
            "margin": null,
            "max_height": null,
            "max_width": null,
            "min_height": null,
            "min_width": null,
            "object_fit": null,
            "object_position": null,
            "order": null,
            "overflow": null,
            "overflow_x": null,
            "overflow_y": null,
            "padding": null,
            "right": null,
            "top": null,
            "visibility": null,
            "width": null
          }
        },
        "ad5fefe0ff674b328f6fbbee0b9389dc": {
          "model_module": "@jupyter-widgets/controls",
          "model_name": "ProgressStyleModel",
          "model_module_version": "1.5.0",
          "state": {
            "_model_module": "@jupyter-widgets/controls",
            "_model_module_version": "1.5.0",
            "_model_name": "ProgressStyleModel",
            "_view_count": null,
            "_view_module": "@jupyter-widgets/base",
            "_view_module_version": "1.2.0",
            "_view_name": "StyleView",
            "bar_color": null,
            "description_width": ""
          }
        },
        "9c03eaa59f7f4961a69980ec05c55787": {
          "model_module": "@jupyter-widgets/base",
          "model_name": "LayoutModel",
          "model_module_version": "1.2.0",
          "state": {
            "_model_module": "@jupyter-widgets/base",
            "_model_module_version": "1.2.0",
            "_model_name": "LayoutModel",
            "_view_count": null,
            "_view_module": "@jupyter-widgets/base",
            "_view_module_version": "1.2.0",
            "_view_name": "LayoutView",
            "align_content": null,
            "align_items": null,
            "align_self": null,
            "border": null,
            "bottom": null,
            "display": null,
            "flex": null,
            "flex_flow": null,
            "grid_area": null,
            "grid_auto_columns": null,
            "grid_auto_flow": null,
            "grid_auto_rows": null,
            "grid_column": null,
            "grid_gap": null,
            "grid_row": null,
            "grid_template_areas": null,
            "grid_template_columns": null,
            "grid_template_rows": null,
            "height": null,
            "justify_content": null,
            "justify_items": null,
            "left": null,
            "margin": null,
            "max_height": null,
            "max_width": null,
            "min_height": null,
            "min_width": null,
            "object_fit": null,
            "object_position": null,
            "order": null,
            "overflow": null,
            "overflow_x": null,
            "overflow_y": null,
            "padding": null,
            "right": null,
            "top": null,
            "visibility": null,
            "width": null
          }
        },
        "9e31e3432d4545188cc2c5723c8107c6": {
          "model_module": "@jupyter-widgets/controls",
          "model_name": "DescriptionStyleModel",
          "model_module_version": "1.5.0",
          "state": {
            "_model_module": "@jupyter-widgets/controls",
            "_model_module_version": "1.5.0",
            "_model_name": "DescriptionStyleModel",
            "_view_count": null,
            "_view_module": "@jupyter-widgets/base",
            "_view_module_version": "1.2.0",
            "_view_name": "StyleView",
            "description_width": ""
          }
        },
        "c304e8f066e0465891f956622e3106c4": {
          "model_module": "@jupyter-widgets/controls",
          "model_name": "HBoxModel",
          "model_module_version": "1.5.0",
          "state": {
            "_dom_classes": [],
            "_model_module": "@jupyter-widgets/controls",
            "_model_module_version": "1.5.0",
            "_model_name": "HBoxModel",
            "_view_count": null,
            "_view_module": "@jupyter-widgets/controls",
            "_view_module_version": "1.5.0",
            "_view_name": "HBoxView",
            "box_style": "",
            "children": [
              "IPY_MODEL_44e96b33dc1e491f9d23cc97daf193cc",
              "IPY_MODEL_77015872652d45288d002e5d31712346",
              "IPY_MODEL_6b7633308bdd421280f1897c57e8ff63"
            ],
            "layout": "IPY_MODEL_33a2ea36dfe34b6b88070a121f49f123"
          }
        },
        "44e96b33dc1e491f9d23cc97daf193cc": {
          "model_module": "@jupyter-widgets/controls",
          "model_name": "HTMLModel",
          "model_module_version": "1.5.0",
          "state": {
            "_dom_classes": [],
            "_model_module": "@jupyter-widgets/controls",
            "_model_module_version": "1.5.0",
            "_model_name": "HTMLModel",
            "_view_count": null,
            "_view_module": "@jupyter-widgets/controls",
            "_view_module_version": "1.5.0",
            "_view_name": "HTMLView",
            "description": "",
            "description_tooltip": null,
            "layout": "IPY_MODEL_908b4374738944a2822d3c6cd24b2532",
            "placeholder": "​",
            "style": "IPY_MODEL_8e961932ecba41aa8124f57ae6849999",
            "value": "100%"
          }
        },
        "77015872652d45288d002e5d31712346": {
          "model_module": "@jupyter-widgets/controls",
          "model_name": "FloatProgressModel",
          "model_module_version": "1.5.0",
          "state": {
            "_dom_classes": [],
            "_model_module": "@jupyter-widgets/controls",
            "_model_module_version": "1.5.0",
            "_model_name": "FloatProgressModel",
            "_view_count": null,
            "_view_module": "@jupyter-widgets/controls",
            "_view_module_version": "1.5.0",
            "_view_name": "ProgressView",
            "bar_style": "success",
            "description": "",
            "description_tooltip": null,
            "layout": "IPY_MODEL_3c4bf9796c3f418fb93ff1e221ddf0af",
            "max": 1789735,
            "min": 0,
            "orientation": "horizontal",
            "style": "IPY_MODEL_f4151b27d53a40ce9c1693c9e85ef2c3",
            "value": 1789735
          }
        },
        "6b7633308bdd421280f1897c57e8ff63": {
          "model_module": "@jupyter-widgets/controls",
          "model_name": "HTMLModel",
          "model_module_version": "1.5.0",
          "state": {
            "_dom_classes": [],
            "_model_module": "@jupyter-widgets/controls",
            "_model_module_version": "1.5.0",
            "_model_name": "HTMLModel",
            "_view_count": null,
            "_view_module": "@jupyter-widgets/controls",
            "_view_module_version": "1.5.0",
            "_view_name": "HTMLView",
            "description": "",
            "description_tooltip": null,
            "layout": "IPY_MODEL_2f131bf76cef4c32932939ac86ede070",
            "placeholder": "​",
            "style": "IPY_MODEL_396b2ce674d04da79041168be66461f5",
            "value": " 1.71M/1.71M [00:00&lt;00:00, 5.51MB/s]"
          }
        },
        "33a2ea36dfe34b6b88070a121f49f123": {
          "model_module": "@jupyter-widgets/base",
          "model_name": "LayoutModel",
          "model_module_version": "1.2.0",
          "state": {
            "_model_module": "@jupyter-widgets/base",
            "_model_module_version": "1.2.0",
            "_model_name": "LayoutModel",
            "_view_count": null,
            "_view_module": "@jupyter-widgets/base",
            "_view_module_version": "1.2.0",
            "_view_name": "LayoutView",
            "align_content": null,
            "align_items": null,
            "align_self": null,
            "border": null,
            "bottom": null,
            "display": null,
            "flex": null,
            "flex_flow": null,
            "grid_area": null,
            "grid_auto_columns": null,
            "grid_auto_flow": null,
            "grid_auto_rows": null,
            "grid_column": null,
            "grid_gap": null,
            "grid_row": null,
            "grid_template_areas": null,
            "grid_template_columns": null,
            "grid_template_rows": null,
            "height": null,
            "justify_content": null,
            "justify_items": null,
            "left": null,
            "margin": null,
            "max_height": null,
            "max_width": null,
            "min_height": null,
            "min_width": null,
            "object_fit": null,
            "object_position": null,
            "order": null,
            "overflow": null,
            "overflow_x": null,
            "overflow_y": null,
            "padding": null,
            "right": null,
            "top": null,
            "visibility": null,
            "width": null
          }
        },
        "908b4374738944a2822d3c6cd24b2532": {
          "model_module": "@jupyter-widgets/base",
          "model_name": "LayoutModel",
          "model_module_version": "1.2.0",
          "state": {
            "_model_module": "@jupyter-widgets/base",
            "_model_module_version": "1.2.0",
            "_model_name": "LayoutModel",
            "_view_count": null,
            "_view_module": "@jupyter-widgets/base",
            "_view_module_version": "1.2.0",
            "_view_name": "LayoutView",
            "align_content": null,
            "align_items": null,
            "align_self": null,
            "border": null,
            "bottom": null,
            "display": null,
            "flex": null,
            "flex_flow": null,
            "grid_area": null,
            "grid_auto_columns": null,
            "grid_auto_flow": null,
            "grid_auto_rows": null,
            "grid_column": null,
            "grid_gap": null,
            "grid_row": null,
            "grid_template_areas": null,
            "grid_template_columns": null,
            "grid_template_rows": null,
            "height": null,
            "justify_content": null,
            "justify_items": null,
            "left": null,
            "margin": null,
            "max_height": null,
            "max_width": null,
            "min_height": null,
            "min_width": null,
            "object_fit": null,
            "object_position": null,
            "order": null,
            "overflow": null,
            "overflow_x": null,
            "overflow_y": null,
            "padding": null,
            "right": null,
            "top": null,
            "visibility": null,
            "width": null
          }
        },
        "8e961932ecba41aa8124f57ae6849999": {
          "model_module": "@jupyter-widgets/controls",
          "model_name": "DescriptionStyleModel",
          "model_module_version": "1.5.0",
          "state": {
            "_model_module": "@jupyter-widgets/controls",
            "_model_module_version": "1.5.0",
            "_model_name": "DescriptionStyleModel",
            "_view_count": null,
            "_view_module": "@jupyter-widgets/base",
            "_view_module_version": "1.2.0",
            "_view_name": "StyleView",
            "description_width": ""
          }
        },
        "3c4bf9796c3f418fb93ff1e221ddf0af": {
          "model_module": "@jupyter-widgets/base",
          "model_name": "LayoutModel",
          "model_module_version": "1.2.0",
          "state": {
            "_model_module": "@jupyter-widgets/base",
            "_model_module_version": "1.2.0",
            "_model_name": "LayoutModel",
            "_view_count": null,
            "_view_module": "@jupyter-widgets/base",
            "_view_module_version": "1.2.0",
            "_view_name": "LayoutView",
            "align_content": null,
            "align_items": null,
            "align_self": null,
            "border": null,
            "bottom": null,
            "display": null,
            "flex": null,
            "flex_flow": null,
            "grid_area": null,
            "grid_auto_columns": null,
            "grid_auto_flow": null,
            "grid_auto_rows": null,
            "grid_column": null,
            "grid_gap": null,
            "grid_row": null,
            "grid_template_areas": null,
            "grid_template_columns": null,
            "grid_template_rows": null,
            "height": null,
            "justify_content": null,
            "justify_items": null,
            "left": null,
            "margin": null,
            "max_height": null,
            "max_width": null,
            "min_height": null,
            "min_width": null,
            "object_fit": null,
            "object_position": null,
            "order": null,
            "overflow": null,
            "overflow_x": null,
            "overflow_y": null,
            "padding": null,
            "right": null,
            "top": null,
            "visibility": null,
            "width": null
          }
        },
        "f4151b27d53a40ce9c1693c9e85ef2c3": {
          "model_module": "@jupyter-widgets/controls",
          "model_name": "ProgressStyleModel",
          "model_module_version": "1.5.0",
          "state": {
            "_model_module": "@jupyter-widgets/controls",
            "_model_module_version": "1.5.0",
            "_model_name": "ProgressStyleModel",
            "_view_count": null,
            "_view_module": "@jupyter-widgets/base",
            "_view_module_version": "1.2.0",
            "_view_name": "StyleView",
            "bar_color": null,
            "description_width": ""
          }
        },
        "2f131bf76cef4c32932939ac86ede070": {
          "model_module": "@jupyter-widgets/base",
          "model_name": "LayoutModel",
          "model_module_version": "1.2.0",
          "state": {
            "_model_module": "@jupyter-widgets/base",
            "_model_module_version": "1.2.0",
            "_model_name": "LayoutModel",
            "_view_count": null,
            "_view_module": "@jupyter-widgets/base",
            "_view_module_version": "1.2.0",
            "_view_name": "LayoutView",
            "align_content": null,
            "align_items": null,
            "align_self": null,
            "border": null,
            "bottom": null,
            "display": null,
            "flex": null,
            "flex_flow": null,
            "grid_area": null,
            "grid_auto_columns": null,
            "grid_auto_flow": null,
            "grid_auto_rows": null,
            "grid_column": null,
            "grid_gap": null,
            "grid_row": null,
            "grid_template_areas": null,
            "grid_template_columns": null,
            "grid_template_rows": null,
            "height": null,
            "justify_content": null,
            "justify_items": null,
            "left": null,
            "margin": null,
            "max_height": null,
            "max_width": null,
            "min_height": null,
            "min_width": null,
            "object_fit": null,
            "object_position": null,
            "order": null,
            "overflow": null,
            "overflow_x": null,
            "overflow_y": null,
            "padding": null,
            "right": null,
            "top": null,
            "visibility": null,
            "width": null
          }
        },
        "396b2ce674d04da79041168be66461f5": {
          "model_module": "@jupyter-widgets/controls",
          "model_name": "DescriptionStyleModel",
          "model_module_version": "1.5.0",
          "state": {
            "_model_module": "@jupyter-widgets/controls",
            "_model_module_version": "1.5.0",
            "_model_name": "DescriptionStyleModel",
            "_view_count": null,
            "_view_module": "@jupyter-widgets/base",
            "_view_module_version": "1.2.0",
            "_view_name": "StyleView",
            "description_width": ""
          }
        }
      }
    }
  },
  "nbformat": 4,
  "nbformat_minor": 0
}